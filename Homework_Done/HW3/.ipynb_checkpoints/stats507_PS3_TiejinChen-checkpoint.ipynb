{
 "cells": [
  {
   "cell_type": "markdown",
   "id": "77b72961",
   "metadata": {},
   "source": [
    "# Homework 3\n",
    "\n",
    "### Problem 0\n",
    "#### Data files\n",
    "link for both datasets is:\n",
    "1. 2015:https://www.eia.gov/consumption/residential/data/2015/index.php?view=microdata\n",
    "and here is the superlink [2015](https://www.eia.gov/consumption/residential/data/2015/index.php?view=microdata)\n",
    "2. 2009: https://www.eia.gov/consumption/residential/data/2009/index.php?view=microdata\n",
    "and here is the superlink [2009](https://www.eia.gov/consumption/residential/data/2009/index.php?view=microdata)\n",
    "\n",
    "link for the dataset download:\n",
    "1. 2015: https://www.eia.gov/consumption/residential/data/2015/csv/recs2015_public_v4.csv\n",
    "\n",
    "2. 2009:\n",
    "- data: https://www.eia.gov/consumption/residential/data/2009/csv/recs2009_public.csv\n",
    "- Replicate weights:https://www.eia.gov/consumption/residential/data/2009/csv/recs2009_public_repweights.csv\n",
    "\n",
    "#### Variables\n",
    "We will only use the following variables:\n",
    "- DOEID:Unique identifier for each respondent\n",
    "- REGIONC:Census Region\n",
    "- HDD65:Heating degree days in 2009(2015), base temperature 65F\n",
    "- CDD65:Cooling degree days in 2009, base temperature 65F\n",
    "- NWEIGHT: Final sample weight\n",
    "- BRRWT_i: i from 1 to 96, i-th replicate weights for 2015 data, not in 2009\n",
    "- brr_weight_i: i from 1 to 244, i-th replicate weights for 2009 data, not in 2015\n",
    "\n",
    "\n",
    "#### Weights and Replicate Weights\n",
    "Links to how to use replicate weights:\n",
    "1. 2015: https://www.eia.gov/consumption/residential/data/2015/pdf/microdata_v3.pdf\n",
    "2. 2009: https://www.eia.gov/consumption/residential/methodology/2009/pdf/using-microdata-022613.pdf\n",
    "\n",
    "From the documents, we know how to estimate variance:\n",
    "> $\\hat{V}(\\tilde{\\theta}) = \\frac{1}{R(1-\\varepsilon)^2}\\sum_{r=1}^{R}(\\widehat{\\theta_r}-\\hat{\\theta})^2$\n",
    "\n",
    "Hence, the estimation of standard error is:\n",
    "\n",
    "$se(\\tilde{\\theta}) =\\sqrt{\\hat{V}(\\tilde{\\theta})}=\n",
    "\\sqrt{\\frac{1}{R(1-\\varepsilon)^2}\\sum_{r=1}^{R}(\\widehat{\\theta_r}-\\hat{\\theta})^2}$\n",
    "\n",
    "Where $\\theta$ is parameter of interest, $R$ is the number of replicate subsample,\n",
    "in 2009 data $R$ is 244 and in 2015 data $R$ is 96. $\\varepsilon$ is Fay coefficient and\n",
    "we set this parameter to 0.5 following the instruction from document. $\\widehat{\\theta_r}$ is\n",
    "the estimation from r-th replicate subsample with r-th replicate weights. And $\\hat{\\theta}$ is\n",
    "the  estimation from full sample which means we will use NWEIGHT(Final sample weight) to estimate it."
   ]
  },
  {
   "cell_type": "markdown",
   "id": "243d3b68",
   "metadata": {},
   "source": [
    "### Problem 1\n",
    "#### Part a\n",
    "First we import all the packages we need to use"
   ]
  },
  {
   "cell_type": "code",
   "execution_count": 1,
   "id": "0e9d8efa",
   "metadata": {},
   "outputs": [],
   "source": [
    "import pandas as pd\n",
    "from os.path import exists\n",
    "from scipy.stats import norm\n",
    "import matplotlib.pyplot as plt\n",
    "from IPython.core.display import display, HTML"
   ]
  },
  {
   "cell_type": "markdown",
   "id": "6069088f",
   "metadata": {},
   "source": [
    "Then we put all the names of data files in a list ```data_filt```,\n",
    "put all the download links of data files in a list ```data_file_link```"
   ]
  },
  {
   "cell_type": "code",
   "execution_count": 2,
   "id": "48e90c75",
   "metadata": {},
   "outputs": [],
   "source": [
    "datafile_09 = 'recs2009_public.csv'\n",
    "datafile_09_link = 'https://www.eia.gov/consumption/residential/data/2009/csv/recs2009_public.csv'\n",
    "datafile_15 = 'recs2015_public_v4.csv'\n",
    "datafile_15_link = 'https://www.eia.gov/consumption/residential/data/2015/csv/recs2015_public_v4.csv'\n",
    "weight_09 = 'recs2009_public_repweights.csv'\n",
    "weight_09_link = 'https://www.eia.gov/consumption/residential/data/2009/csv/recs2009_public_repweights.csv'\n",
    "data_file = [datafile_09,datafile_15,weight_09]\n",
    "data_file_link = [datafile_09_link,datafile_15_link,weight_09_link]"
   ]
  },
  {
   "cell_type": "markdown",
   "id": "0bc88c1a",
   "metadata": {},
   "source": [
    "The following codes is to read the data into dataframe. If in the path this .py file\n",
    "we can not find the file, we will download it. And we save all the dataframe in a\n",
    "list ```store_data```, where ```store_data[0]``` is 2009 data, ```store_data[1]``` is\n",
    "2015 data and ```store_data[2]``` is the replicate weights of 2009 data."
   ]
  },
  {
   "cell_type": "code",
   "execution_count": 3,
   "id": "282d3c92",
   "metadata": {},
   "outputs": [],
   "source": [
    "store_data = []\n",
    "for i in range(3):\n",
    "    if exists(data_file[i]):\n",
    "        store_data.append(pd.read_csv(data_file[i],low_memory=False))\n",
    "    else:\n",
    "        temp = pd.read_csv(data_file_link[i],low_memory=False)\n",
    "        temp.to_csv(data_file[i])\n",
    "        store_data.append(temp)"
   ]
  },
  {
   "cell_type": "markdown",
   "id": "0fc0d95d",
   "metadata": {},
   "source": [
    "Then we take all the columns we need. And creating categorical types to ```REGIONC```.\n",
    "Here we think ```NWEIGHT``` is not replicate weights, hence the dataframe has this column."
   ]
  },
  {
   "cell_type": "code",
   "execution_count": 4,
   "id": "97ef328f",
   "metadata": {
    "lines_to_next_cell": 2
   },
   "outputs": [],
   "source": [
    "col_name_both = ['DOEID','REGIONC','HDD65','CDD65','NWEIGHT']\n",
    "cate_dict = {1:\"Northeast\", 2:\"Midwest\",3:\"South\",4:\"West\"}\n",
    "data_09 = store_data[0].loc[:,col_name_both]\n",
    "data_15 = store_data[1].loc[:,col_name_both]\n",
    "data_09.loc[:,'REGIONC'] = pd.Categorical(data_09['REGIONC'].replace(cate_dict))\n",
    "data_15.loc[:,'REGIONC'] = pd.Categorical(data_15['REGIONC'].replace(cate_dict))"
   ]
  },
  {
   "cell_type": "markdown",
   "id": "912572cc",
   "metadata": {},
   "source": [
    "Finally, we get two dataframe ```data_09 ``` and ```data_15```\n",
    "which are our datasets for 2009 and 2015"
   ]
  },
  {
   "cell_type": "code",
   "execution_count": 5,
   "id": "6bff457a",
   "metadata": {},
   "outputs": [
    {
     "data": {
      "text/html": [
       "<div>\n",
       "<style scoped>\n",
       "    .dataframe tbody tr th:only-of-type {\n",
       "        vertical-align: middle;\n",
       "    }\n",
       "\n",
       "    .dataframe tbody tr th {\n",
       "        vertical-align: top;\n",
       "    }\n",
       "\n",
       "    .dataframe thead th {\n",
       "        text-align: right;\n",
       "    }\n",
       "</style>\n",
       "<table border=\"1\" class=\"dataframe\">\n",
       "  <thead>\n",
       "    <tr style=\"text-align: right;\">\n",
       "      <th></th>\n",
       "      <th>DOEID</th>\n",
       "      <th>REGIONC</th>\n",
       "      <th>HDD65</th>\n",
       "      <th>CDD65</th>\n",
       "      <th>NWEIGHT</th>\n",
       "    </tr>\n",
       "  </thead>\n",
       "  <tbody>\n",
       "    <tr>\n",
       "      <th>0</th>\n",
       "      <td>1</td>\n",
       "      <td>Midwest</td>\n",
       "      <td>4742</td>\n",
       "      <td>1080</td>\n",
       "      <td>2471.68</td>\n",
       "    </tr>\n",
       "    <tr>\n",
       "      <th>1</th>\n",
       "      <td>2</td>\n",
       "      <td>West</td>\n",
       "      <td>2662</td>\n",
       "      <td>199</td>\n",
       "      <td>8599.17</td>\n",
       "    </tr>\n",
       "    <tr>\n",
       "      <th>2</th>\n",
       "      <td>3</td>\n",
       "      <td>Northeast</td>\n",
       "      <td>6233</td>\n",
       "      <td>505</td>\n",
       "      <td>8969.92</td>\n",
       "    </tr>\n",
       "    <tr>\n",
       "      <th>3</th>\n",
       "      <td>4</td>\n",
       "      <td>Midwest</td>\n",
       "      <td>6034</td>\n",
       "      <td>672</td>\n",
       "      <td>18003.64</td>\n",
       "    </tr>\n",
       "    <tr>\n",
       "      <th>4</th>\n",
       "      <td>5</td>\n",
       "      <td>Northeast</td>\n",
       "      <td>5388</td>\n",
       "      <td>702</td>\n",
       "      <td>5999.61</td>\n",
       "    </tr>\n",
       "    <tr>\n",
       "      <th>...</th>\n",
       "      <td>...</td>\n",
       "      <td>...</td>\n",
       "      <td>...</td>\n",
       "      <td>...</td>\n",
       "      <td>...</td>\n",
       "    </tr>\n",
       "    <tr>\n",
       "      <th>12078</th>\n",
       "      <td>12079</td>\n",
       "      <td>Midwest</td>\n",
       "      <td>7671</td>\n",
       "      <td>332</td>\n",
       "      <td>10219.80</td>\n",
       "    </tr>\n",
       "    <tr>\n",
       "      <th>12079</th>\n",
       "      <td>12080</td>\n",
       "      <td>South</td>\n",
       "      <td>2085</td>\n",
       "      <td>2844</td>\n",
       "      <td>8689.07</td>\n",
       "    </tr>\n",
       "    <tr>\n",
       "      <th>12080</th>\n",
       "      <td>12081</td>\n",
       "      <td>Midwest</td>\n",
       "      <td>7935</td>\n",
       "      <td>472</td>\n",
       "      <td>4697.21</td>\n",
       "    </tr>\n",
       "    <tr>\n",
       "      <th>12081</th>\n",
       "      <td>12082</td>\n",
       "      <td>West</td>\n",
       "      <td>5834</td>\n",
       "      <td>770</td>\n",
       "      <td>13155.68</td>\n",
       "    </tr>\n",
       "    <tr>\n",
       "      <th>12082</th>\n",
       "      <td>12083</td>\n",
       "      <td>West</td>\n",
       "      <td>2806</td>\n",
       "      <td>124</td>\n",
       "      <td>7703.43</td>\n",
       "    </tr>\n",
       "  </tbody>\n",
       "</table>\n",
       "<p>12083 rows × 5 columns</p>\n",
       "</div>"
      ],
      "text/plain": [
       "       DOEID    REGIONC  HDD65  CDD65   NWEIGHT\n",
       "0          1    Midwest   4742   1080   2471.68\n",
       "1          2       West   2662    199   8599.17\n",
       "2          3  Northeast   6233    505   8969.92\n",
       "3          4    Midwest   6034    672  18003.64\n",
       "4          5  Northeast   5388    702   5999.61\n",
       "...      ...        ...    ...    ...       ...\n",
       "12078  12079    Midwest   7671    332  10219.80\n",
       "12079  12080      South   2085   2844   8689.07\n",
       "12080  12081    Midwest   7935    472   4697.21\n",
       "12081  12082       West   5834    770  13155.68\n",
       "12082  12083       West   2806    124   7703.43\n",
       "\n",
       "[12083 rows x 5 columns]"
      ]
     },
     "execution_count": 5,
     "metadata": {},
     "output_type": "execute_result"
    }
   ],
   "source": [
    "data_09"
   ]
  },
  {
   "cell_type": "code",
   "execution_count": 6,
   "id": "30ef16c1",
   "metadata": {},
   "outputs": [
    {
     "data": {
      "text/html": [
       "<div>\n",
       "<style scoped>\n",
       "    .dataframe tbody tr th:only-of-type {\n",
       "        vertical-align: middle;\n",
       "    }\n",
       "\n",
       "    .dataframe tbody tr th {\n",
       "        vertical-align: top;\n",
       "    }\n",
       "\n",
       "    .dataframe thead th {\n",
       "        text-align: right;\n",
       "    }\n",
       "</style>\n",
       "<table border=\"1\" class=\"dataframe\">\n",
       "  <thead>\n",
       "    <tr style=\"text-align: right;\">\n",
       "      <th></th>\n",
       "      <th>DOEID</th>\n",
       "      <th>REGIONC</th>\n",
       "      <th>HDD65</th>\n",
       "      <th>CDD65</th>\n",
       "      <th>NWEIGHT</th>\n",
       "    </tr>\n",
       "  </thead>\n",
       "  <tbody>\n",
       "    <tr>\n",
       "      <th>0</th>\n",
       "      <td>10001</td>\n",
       "      <td>West</td>\n",
       "      <td>2031</td>\n",
       "      <td>1768</td>\n",
       "      <td>12085.16227</td>\n",
       "    </tr>\n",
       "    <tr>\n",
       "      <th>1</th>\n",
       "      <td>10002</td>\n",
       "      <td>South</td>\n",
       "      <td>1915</td>\n",
       "      <td>2795</td>\n",
       "      <td>14410.19627</td>\n",
       "    </tr>\n",
       "    <tr>\n",
       "      <th>2</th>\n",
       "      <td>10003</td>\n",
       "      <td>South</td>\n",
       "      <td>2263</td>\n",
       "      <td>2235</td>\n",
       "      <td>23325.95385</td>\n",
       "    </tr>\n",
       "    <tr>\n",
       "      <th>3</th>\n",
       "      <td>10004</td>\n",
       "      <td>Midwest</td>\n",
       "      <td>3754</td>\n",
       "      <td>1374</td>\n",
       "      <td>12165.33319</td>\n",
       "    </tr>\n",
       "    <tr>\n",
       "      <th>4</th>\n",
       "      <td>10005</td>\n",
       "      <td>Northeast</td>\n",
       "      <td>5401</td>\n",
       "      <td>993</td>\n",
       "      <td>16717.67092</td>\n",
       "    </tr>\n",
       "    <tr>\n",
       "      <th>...</th>\n",
       "      <td>...</td>\n",
       "      <td>...</td>\n",
       "      <td>...</td>\n",
       "      <td>...</td>\n",
       "      <td>...</td>\n",
       "    </tr>\n",
       "    <tr>\n",
       "      <th>5681</th>\n",
       "      <td>15682</td>\n",
       "      <td>Midwest</td>\n",
       "      <td>6470</td>\n",
       "      <td>632</td>\n",
       "      <td>14190.77054</td>\n",
       "    </tr>\n",
       "    <tr>\n",
       "      <th>5682</th>\n",
       "      <td>15683</td>\n",
       "      <td>South</td>\n",
       "      <td>2512</td>\n",
       "      <td>2055</td>\n",
       "      <td>13617.68710</td>\n",
       "    </tr>\n",
       "    <tr>\n",
       "      <th>5683</th>\n",
       "      <td>15684</td>\n",
       "      <td>Midwest</td>\n",
       "      <td>5941</td>\n",
       "      <td>937</td>\n",
       "      <td>20365.17745</td>\n",
       "    </tr>\n",
       "    <tr>\n",
       "      <th>5684</th>\n",
       "      <td>15685</td>\n",
       "      <td>South</td>\n",
       "      <td>1438</td>\n",
       "      <td>3464</td>\n",
       "      <td>15110.19635</td>\n",
       "    </tr>\n",
       "    <tr>\n",
       "      <th>5685</th>\n",
       "      <td>15686</td>\n",
       "      <td>Midwest</td>\n",
       "      <td>4934</td>\n",
       "      <td>1394</td>\n",
       "      <td>31921.75621</td>\n",
       "    </tr>\n",
       "  </tbody>\n",
       "</table>\n",
       "<p>5686 rows × 5 columns</p>\n",
       "</div>"
      ],
      "text/plain": [
       "      DOEID    REGIONC  HDD65  CDD65      NWEIGHT\n",
       "0     10001       West   2031   1768  12085.16227\n",
       "1     10002      South   1915   2795  14410.19627\n",
       "2     10003      South   2263   2235  23325.95385\n",
       "3     10004    Midwest   3754   1374  12165.33319\n",
       "4     10005  Northeast   5401    993  16717.67092\n",
       "...     ...        ...    ...    ...          ...\n",
       "5681  15682    Midwest   6470    632  14190.77054\n",
       "5682  15683      South   2512   2055  13617.68710\n",
       "5683  15684    Midwest   5941    937  20365.17745\n",
       "5684  15685      South   1438   3464  15110.19635\n",
       "5685  15686    Midwest   4934   1394  31921.75621\n",
       "\n",
       "[5686 rows x 5 columns]"
      ]
     },
     "execution_count": 6,
     "metadata": {},
     "output_type": "execute_result"
    }
   ],
   "source": [
    "data_15"
   ]
  },
  {
   "cell_type": "markdown",
   "id": "044225ea",
   "metadata": {},
   "source": [
    "#### Part b\n",
    "In this part, we create two datasets with only ID and replicate weights.\n",
    "Here we stress that we don't think ```NWEIGHT```  as replicate weights.\n",
    "Hence the datasets in this part will not contain this columns."
   ]
  },
  {
   "cell_type": "code",
   "execution_count": 7,
   "id": "e0b11d3b",
   "metadata": {},
   "outputs": [],
   "source": [
    "rep_weight_09 = store_data[2].drop(['NWEIGHT','Unnamed: 0'],axis=1)\n",
    "weight_name_15 = ['DOEID']\n",
    "for i in range(1,97):\n",
    "    weight_name_15.append('BRRWT{}'.format(i))\n",
    "rep_weight_15 = store_data[1][weight_name_15]\n",
    "rep_weight_09 = pd.melt(rep_weight_09,id_vars='DOEID')\n",
    "rep_weight_15 = pd.melt(rep_weight_15,id_vars='DOEID')"
   ]
  },
  {
   "cell_type": "markdown",
   "id": "ea506b62",
   "metadata": {},
   "source": [
    "We get the result ```rep_weight_09``` and ```rep_weight_15``` with long format"
   ]
  },
  {
   "cell_type": "code",
   "execution_count": 8,
   "id": "4c3f377d",
   "metadata": {},
   "outputs": [
    {
     "data": {
      "text/html": [
       "<div>\n",
       "<style scoped>\n",
       "    .dataframe tbody tr th:only-of-type {\n",
       "        vertical-align: middle;\n",
       "    }\n",
       "\n",
       "    .dataframe tbody tr th {\n",
       "        vertical-align: top;\n",
       "    }\n",
       "\n",
       "    .dataframe thead th {\n",
       "        text-align: right;\n",
       "    }\n",
       "</style>\n",
       "<table border=\"1\" class=\"dataframe\">\n",
       "  <thead>\n",
       "    <tr style=\"text-align: right;\">\n",
       "      <th></th>\n",
       "      <th>DOEID</th>\n",
       "      <th>variable</th>\n",
       "      <th>value</th>\n",
       "    </tr>\n",
       "  </thead>\n",
       "  <tbody>\n",
       "    <tr>\n",
       "      <th>0</th>\n",
       "      <td>1</td>\n",
       "      <td>brr_weight_1</td>\n",
       "      <td>3628.305158</td>\n",
       "    </tr>\n",
       "    <tr>\n",
       "      <th>1</th>\n",
       "      <td>2</td>\n",
       "      <td>brr_weight_1</td>\n",
       "      <td>4408.308000</td>\n",
       "    </tr>\n",
       "    <tr>\n",
       "      <th>2</th>\n",
       "      <td>3</td>\n",
       "      <td>brr_weight_1</td>\n",
       "      <td>13664.732100</td>\n",
       "    </tr>\n",
       "    <tr>\n",
       "      <th>3</th>\n",
       "      <td>4</td>\n",
       "      <td>brr_weight_1</td>\n",
       "      <td>9456.435434</td>\n",
       "    </tr>\n",
       "    <tr>\n",
       "      <th>4</th>\n",
       "      <td>5</td>\n",
       "      <td>brr_weight_1</td>\n",
       "      <td>8659.554041</td>\n",
       "    </tr>\n",
       "    <tr>\n",
       "      <th>...</th>\n",
       "      <td>...</td>\n",
       "      <td>...</td>\n",
       "      <td>...</td>\n",
       "    </tr>\n",
       "    <tr>\n",
       "      <th>2948247</th>\n",
       "      <td>12079</td>\n",
       "      <td>brr_weight_244</td>\n",
       "      <td>15669.237850</td>\n",
       "    </tr>\n",
       "    <tr>\n",
       "      <th>2948248</th>\n",
       "      <td>12080</td>\n",
       "      <td>brr_weight_244</td>\n",
       "      <td>3976.693639</td>\n",
       "    </tr>\n",
       "    <tr>\n",
       "      <th>2948249</th>\n",
       "      <td>12081</td>\n",
       "      <td>brr_weight_244</td>\n",
       "      <td>2479.082636</td>\n",
       "    </tr>\n",
       "    <tr>\n",
       "      <th>2948250</th>\n",
       "      <td>12082</td>\n",
       "      <td>brr_weight_244</td>\n",
       "      <td>17663.466590</td>\n",
       "    </tr>\n",
       "    <tr>\n",
       "      <th>2948251</th>\n",
       "      <td>12083</td>\n",
       "      <td>brr_weight_244</td>\n",
       "      <td>3836.031339</td>\n",
       "    </tr>\n",
       "  </tbody>\n",
       "</table>\n",
       "<p>2948252 rows × 3 columns</p>\n",
       "</div>"
      ],
      "text/plain": [
       "         DOEID        variable         value\n",
       "0            1    brr_weight_1   3628.305158\n",
       "1            2    brr_weight_1   4408.308000\n",
       "2            3    brr_weight_1  13664.732100\n",
       "3            4    brr_weight_1   9456.435434\n",
       "4            5    brr_weight_1   8659.554041\n",
       "...        ...             ...           ...\n",
       "2948247  12079  brr_weight_244  15669.237850\n",
       "2948248  12080  brr_weight_244   3976.693639\n",
       "2948249  12081  brr_weight_244   2479.082636\n",
       "2948250  12082  brr_weight_244  17663.466590\n",
       "2948251  12083  brr_weight_244   3836.031339\n",
       "\n",
       "[2948252 rows x 3 columns]"
      ]
     },
     "execution_count": 8,
     "metadata": {},
     "output_type": "execute_result"
    }
   ],
   "source": [
    "rep_weight_09"
   ]
  },
  {
   "cell_type": "code",
   "execution_count": 9,
   "id": "16b63186",
   "metadata": {},
   "outputs": [
    {
     "data": {
      "text/html": [
       "<div>\n",
       "<style scoped>\n",
       "    .dataframe tbody tr th:only-of-type {\n",
       "        vertical-align: middle;\n",
       "    }\n",
       "\n",
       "    .dataframe tbody tr th {\n",
       "        vertical-align: top;\n",
       "    }\n",
       "\n",
       "    .dataframe thead th {\n",
       "        text-align: right;\n",
       "    }\n",
       "</style>\n",
       "<table border=\"1\" class=\"dataframe\">\n",
       "  <thead>\n",
       "    <tr style=\"text-align: right;\">\n",
       "      <th></th>\n",
       "      <th>DOEID</th>\n",
       "      <th>variable</th>\n",
       "      <th>value</th>\n",
       "    </tr>\n",
       "  </thead>\n",
       "  <tbody>\n",
       "    <tr>\n",
       "      <th>0</th>\n",
       "      <td>10001</td>\n",
       "      <td>BRRWT1</td>\n",
       "      <td>16555.311270</td>\n",
       "    </tr>\n",
       "    <tr>\n",
       "      <th>1</th>\n",
       "      <td>10002</td>\n",
       "      <td>BRRWT1</td>\n",
       "      <td>21486.287200</td>\n",
       "    </tr>\n",
       "    <tr>\n",
       "      <th>2</th>\n",
       "      <td>10003</td>\n",
       "      <td>BRRWT1</td>\n",
       "      <td>12297.436760</td>\n",
       "    </tr>\n",
       "    <tr>\n",
       "      <th>3</th>\n",
       "      <td>10004</td>\n",
       "      <td>BRRWT1</td>\n",
       "      <td>18553.958900</td>\n",
       "    </tr>\n",
       "    <tr>\n",
       "      <th>4</th>\n",
       "      <td>10005</td>\n",
       "      <td>BRRWT1</td>\n",
       "      <td>8075.744168</td>\n",
       "    </tr>\n",
       "    <tr>\n",
       "      <th>...</th>\n",
       "      <td>...</td>\n",
       "      <td>...</td>\n",
       "      <td>...</td>\n",
       "    </tr>\n",
       "    <tr>\n",
       "      <th>545851</th>\n",
       "      <td>15682</td>\n",
       "      <td>BRRWT96</td>\n",
       "      <td>20183.445250</td>\n",
       "    </tr>\n",
       "    <tr>\n",
       "      <th>545852</th>\n",
       "      <td>15683</td>\n",
       "      <td>BRRWT96</td>\n",
       "      <td>19681.916720</td>\n",
       "    </tr>\n",
       "    <tr>\n",
       "      <th>545853</th>\n",
       "      <td>15684</td>\n",
       "      <td>BRRWT96</td>\n",
       "      <td>29148.112150</td>\n",
       "    </tr>\n",
       "    <tr>\n",
       "      <th>545854</th>\n",
       "      <td>15685</td>\n",
       "      <td>BRRWT96</td>\n",
       "      <td>20695.042680</td>\n",
       "    </tr>\n",
       "    <tr>\n",
       "      <th>545855</th>\n",
       "      <td>15686</td>\n",
       "      <td>BRRWT96</td>\n",
       "      <td>17836.113110</td>\n",
       "    </tr>\n",
       "  </tbody>\n",
       "</table>\n",
       "<p>545856 rows × 3 columns</p>\n",
       "</div>"
      ],
      "text/plain": [
       "        DOEID variable         value\n",
       "0       10001   BRRWT1  16555.311270\n",
       "1       10002   BRRWT1  21486.287200\n",
       "2       10003   BRRWT1  12297.436760\n",
       "3       10004   BRRWT1  18553.958900\n",
       "4       10005   BRRWT1   8075.744168\n",
       "...       ...      ...           ...\n",
       "545851  15682  BRRWT96  20183.445250\n",
       "545852  15683  BRRWT96  19681.916720\n",
       "545853  15684  BRRWT96  29148.112150\n",
       "545854  15685  BRRWT96  20695.042680\n",
       "545855  15686  BRRWT96  17836.113110\n",
       "\n",
       "[545856 rows x 3 columns]"
      ]
     },
     "execution_count": 9,
     "metadata": {},
     "output_type": "execute_result"
    }
   ],
   "source": [
    "rep_weight_15"
   ]
  },
  {
   "cell_type": "markdown",
   "id": "5df25fda",
   "metadata": {},
   "source": [
    "### Problem 2\n",
    "#### Part a\n",
    "In this part, we will get the point estimation and 95% CI of the average number of heating\n",
    "and cooling degree days for residences in each Census region for both 2009 and 2015.\n",
    "First, we set ```DOEID``` as index for all the datasets we get in last problem."
   ]
  },
  {
   "cell_type": "code",
   "execution_count": 10,
   "id": "c2b77da0",
   "metadata": {},
   "outputs": [],
   "source": [
    "data_09.set_index(['DOEID'], inplace=True,drop=True)\n",
    "data_15.set_index(['DOEID'], inplace=True,drop=True)\n",
    "rep_weight_09.set_index(['DOEID'], inplace=True,drop=True)\n",
    "rep_weight_15.set_index(['DOEID'], inplace=True,drop=True)"
   ]
  },
  {
   "cell_type": "markdown",
   "id": "7a01d77a",
   "metadata": {},
   "source": [
    "Then we use the following code with groupby-apply-combine method to get the point estimation "
   ]
  },
  {
   "cell_type": "code",
   "execution_count": 11,
   "id": "bb21010e",
   "metadata": {},
   "outputs": [],
   "source": [
    "def heat_data_point_esti(group):\n",
    "    return (group['HDD65'] * group['NWEIGHT']).sum()/group['NWEIGHT'].sum()\n",
    "def cool_data_point_esti(group):\n",
    "    return (group['CDD65'] * group['NWEIGHT']).sum()/group['NWEIGHT'].sum()\n",
    "heat_point_estimation_09 = data_09.groupby('REGIONC').apply(heat_data_point_esti)\n",
    "cool_point_estimation_09 = data_09.groupby('REGIONC').apply(cool_data_point_esti)\n",
    "heat_point_estimation_15 = data_15.groupby('REGIONC').apply(heat_data_point_esti)\n",
    "cool_point_estimation_15 = data_15.groupby('REGIONC').apply(cool_data_point_esti)"
   ]
  },
  {
   "cell_type": "markdown",
   "id": "0511c5e5",
   "metadata": {},
   "source": [
    "We use the same logic to calculate the standard error. However, the function we\n",
    "use in .apply also need .apply in itself to traverse two groupby result.\n",
    "So it is a little bit complex."
   ]
  },
  {
   "cell_type": "code",
   "execution_count": 12,
   "id": "f04243cf",
   "metadata": {},
   "outputs": [],
   "source": [
    "def weight_mean_two(group,col_name,other):\n",
    "    def weight_mean(group_1,other_col):\n",
    "        weight = group_1['value']\n",
    "        #one = other_col/other_col\n",
    "        one = pd.Series(1,index=other_col.index)\n",
    "        return (weight*other_col).sum()/(weight * one).sum()\n",
    "    value = group[col_name]\n",
    "    return other.groupby('variable').apply(weight_mean,value)\n",
    "heat_rep_var_temp_09 = data_09.groupby('REGIONC').apply(weight_mean_two,'HDD65',rep_weight_09)\\\n",
    "    .sub(heat_point_estimation_09,axis=0)\n",
    "heat_rep_sd_09 = ((heat_rep_var_temp_09**2).sum(axis=1)/(244*0.25))**(0.5)\n",
    "cool_rep_var_temp_09 = data_09.groupby('REGIONC').apply(weight_mean_two,'CDD65',rep_weight_09)\\\n",
    "    .sub(cool_point_estimation_09,axis=0)\n",
    "cool_rep_sd_09 = ((cool_rep_var_temp_09**2).sum(axis=1)/(244*0.25))**(0.5)\n",
    "heat_rep_var_temp_15 = data_15.groupby('REGIONC').apply(weight_mean_two,'HDD65',rep_weight_15)\\\n",
    "    .sub(heat_point_estimation_15,axis=0)\n",
    "heat_rep_sd_15 = ((heat_rep_var_temp_15**2).sum(axis=1)/(96*0.25))**(0.5)\n",
    "cool_rep_var_temp_15 = data_15.groupby('REGIONC').apply(weight_mean_two,'CDD65',rep_weight_15)\\\n",
    "    .sub(cool_point_estimation_15,axis=0)\n",
    "cool_rep_sd_15 = ((cool_rep_var_temp_15**2).sum(axis=1)/(96*0.25))**(0.5)"
   ]
  },
  {
   "cell_type": "markdown",
   "id": "404f17e9",
   "metadata": {},
   "source": [
    "We get the result is ```heat_rep_sd_09```,```cool_rep_sd_09```,```heat_rep_sd_15```,\n",
    "```cool_rep_sd_15```.And  ```heat_rep_sd_09``` means standard error of heating degree days\n",
    "in 2009 data, ```cool_rep_sd_15``` means standard error of cooling degree days in 2015 data.\n",
    "\n",
    "Then we can calculate 95% CI."
   ]
  },
  {
   "cell_type": "code",
   "execution_count": 13,
   "id": "d6f1d1dd",
   "metadata": {},
   "outputs": [],
   "source": [
    "heat_point_estimation_09_lwr = heat_point_estimation_09-norm.ppf(0.975)*heat_rep_sd_09\n",
    "heat_point_estimation_09_upr = heat_point_estimation_09+norm.ppf(0.975)*heat_rep_sd_09\n",
    "cool_point_estimation_09_lwr = cool_point_estimation_09-norm.ppf(0.975)*cool_rep_sd_09\n",
    "cool_point_estimation_09_upr = cool_point_estimation_09+norm.ppf(0.975)*cool_rep_sd_09\n",
    "store_result_09 = [heat_point_estimation_09_lwr,heat_point_estimation_09,\n",
    "                   heat_point_estimation_09_upr,cool_point_estimation_09_lwr,\n",
    "                   cool_point_estimation_09,cool_point_estimation_09_upr]"
   ]
  },
  {
   "cell_type": "code",
   "execution_count": 14,
   "id": "ef6ac071",
   "metadata": {},
   "outputs": [],
   "source": [
    "heat_point_estimation_15_lwr = heat_point_estimation_15-norm.ppf(0.975)*heat_rep_sd_15\n",
    "heat_point_estimation_15_upr = heat_point_estimation_15+norm.ppf(0.975)*heat_rep_sd_15\n",
    "cool_point_estimation_15_lwr = cool_point_estimation_15-norm.ppf(0.975)*cool_rep_sd_15\n",
    "cool_point_estimation_15_upr = cool_point_estimation_15+norm.ppf(0.975)*cool_rep_sd_15\n",
    "store_result_15 = [heat_point_estimation_15_lwr,heat_point_estimation_15,\n",
    "                   heat_point_estimation_15_upr,cool_point_estimation_15_lwr,\n",
    "                   cool_point_estimation_15,cool_point_estimation_15_upr]"
   ]
  },
  {
   "cell_type": "markdown",
   "id": "475eed41",
   "metadata": {},
   "source": [
    "We get the two list ```store_result_09``` and ```store_result_15```\n",
    "to store all the result, including point estimation,\n",
    "their lower bound of estimation and upper bound of estimation.\n",
    "\n",
    "Finally, We define a function ```create_table ``` to get a good table to show."
   ]
  },
  {
   "cell_type": "code",
   "execution_count": 15,
   "id": "d1b702a3",
   "metadata": {},
   "outputs": [],
   "source": [
    "def create_table(store_result):\n",
    "    estimation_heat = pd.concat(store_result[:3],axis=1)\n",
    "    estimation_heat.columns =['lower bound of estimation', 'point estimation',\n",
    "                              'upper bound of estimation']\n",
    "    estimation_heat['Temperature Type'] = 'heat'\n",
    "    estimation_cool = pd.concat(store_result[3:],axis=1)\n",
    "    estimation_cool.columns =['lower bound of estimation', 'point estimation',\n",
    "                              'upper bound of estimation']\n",
    "    estimation_cool['Temperature Type'] = 'cool'\n",
    "    estimation = pd.concat([estimation_heat,estimation_cool])\n",
    "    estimation.index.name = 'Census Region'\n",
    "    estimation.set_index('Temperature Type',append=True,inplace=True)\n",
    "    return estimation.swaplevel()\n",
    "table_09 = create_table(store_result_09)\n",
    "table_15 = create_table(store_result_15)"
   ]
  },
  {
   "cell_type": "markdown",
   "id": "f1dccb84",
   "metadata": {},
   "source": [
    "We get the result ```table_09``` and ```table_15```. Now we display them."
   ]
  },
  {
   "cell_type": "code",
   "execution_count": 16,
   "id": "e78f369c",
   "metadata": {},
   "outputs": [
    {
     "data": {
      "text/html": [
       "<table border=\"1\" class=\"dataframe\">\n",
       "\n",
       "<b> Table 1.</b> <em> Point estimation and 95%CI of 2009 data.</em>\n",
       "When Temperature Type is 'heat', then the data is the estimation \n",
       "and 95%CI of heating degree days.\n",
       "When Temperature Type is 'cool', then the data is the estimation \n",
       "and 95%CI of cooling degree days.\n",
       "\n",
       "  <thead>\n",
       "    <tr style=\"text-align: right;\">\n",
       "      <th></th>\n",
       "      <th></th>\n",
       "      <th>lower bound of estimation</th>\n",
       "      <th>point estimation</th>\n",
       "      <th>upper bound of estimation</th>\n",
       "    </tr>\n",
       "    <tr>\n",
       "      <th>Temperature Type</th>\n",
       "      <th>Census Region</th>\n",
       "      <th></th>\n",
       "      <th></th>\n",
       "      <th></th>\n",
       "    </tr>\n",
       "  </thead>\n",
       "  <tbody>\n",
       "    <tr>\n",
       "      <th rowspan=\"4\" valign=\"top\">heat</th>\n",
       "      <th>Midwest</th>\n",
       "      <td>6233.762658</td>\n",
       "      <td>6325.337030</td>\n",
       "      <td>6416.911403</td>\n",
       "    </tr>\n",
       "    <tr>\n",
       "      <th>Northeast</th>\n",
       "      <td>5632.201805</td>\n",
       "      <td>5700.988131</td>\n",
       "      <td>5769.774457</td>\n",
       "    </tr>\n",
       "    <tr>\n",
       "      <th>South</th>\n",
       "      <td>2615.699330</td>\n",
       "      <td>2696.667536</td>\n",
       "      <td>2777.635741</td>\n",
       "    </tr>\n",
       "    <tr>\n",
       "      <th>West</th>\n",
       "      <td>3092.527998</td>\n",
       "      <td>3259.641431</td>\n",
       "      <td>3426.754863</td>\n",
       "    </tr>\n",
       "    <tr>\n",
       "      <th rowspan=\"4\" valign=\"top\">cool</th>\n",
       "      <th>Midwest</th>\n",
       "      <td>631.991756</td>\n",
       "      <td>660.888382</td>\n",
       "      <td>689.785008</td>\n",
       "    </tr>\n",
       "    <tr>\n",
       "      <th>Northeast</th>\n",
       "      <td>660.123164</td>\n",
       "      <td>680.715125</td>\n",
       "      <td>701.307086</td>\n",
       "    </tr>\n",
       "    <tr>\n",
       "      <th>South</th>\n",
       "      <td>2150.647920</td>\n",
       "      <td>2207.728377</td>\n",
       "      <td>2264.808835</td>\n",
       "    </tr>\n",
       "    <tr>\n",
       "      <th>West</th>\n",
       "      <td>1270.225995</td>\n",
       "      <td>1328.642144</td>\n",
       "      <td>1387.058293</td>\n",
       "    </tr>\n",
       "  </tbody>\n",
       "</table>"
      ],
      "text/plain": [
       "<IPython.core.display.HTML object>"
      ]
     },
     "metadata": {},
     "output_type": "display_data"
    }
   ],
   "source": [
    "cap = \"\"\"\n",
    "<b> Table 1.</b> <em> Point estimation and 95%CI of 2009 data.</em>\n",
    "When Temperature Type is 'heat', then the data is the estimation \n",
    "and 95%CI of heating degree days.\n",
    "When Temperature Type is 'cool', then the data is the estimation \n",
    "and 95%CI of cooling degree days.\n",
    "\"\"\"\n",
    "t1 = table_09.to_html()\n",
    "t1 = t1.rsplit('\\n')\n",
    "t1.insert(1, cap)\n",
    "tab1 = ''\n",
    "for i, line in enumerate(t1):\n",
    "    tab1 += line\n",
    "    if i < (len(t1) - 1):\n",
    "        tab1 += '\\n'\n",
    "display(HTML(tab1))"
   ]
  },
  {
   "cell_type": "code",
   "execution_count": 17,
   "id": "113b2698",
   "metadata": {},
   "outputs": [
    {
     "data": {
      "text/html": [
       "<table border=\"1\" class=\"dataframe\">\n",
       "\n",
       "<b> Table 2.</b> <em> Point estimation and 95%CI of 2015 data.</em>\n",
       "When Temperature Type is 'heat', then the data is the estimation \n",
       "and 95%CI of heating degree days.\n",
       "When Temperature Type is 'cool', then the data is the estimation \n",
       "and 95%CI of cooling degree days.\n",
       "\n",
       "  <thead>\n",
       "    <tr style=\"text-align: right;\">\n",
       "      <th></th>\n",
       "      <th></th>\n",
       "      <th>lower bound of estimation</th>\n",
       "      <th>point estimation</th>\n",
       "      <th>upper bound of estimation</th>\n",
       "    </tr>\n",
       "    <tr>\n",
       "      <th>Temperature Type</th>\n",
       "      <th>Census Region</th>\n",
       "      <th></th>\n",
       "      <th></th>\n",
       "      <th></th>\n",
       "    </tr>\n",
       "  </thead>\n",
       "  <tbody>\n",
       "    <tr>\n",
       "      <th rowspan=\"4\" valign=\"top\">heat</th>\n",
       "      <th>Midwest</th>\n",
       "      <td>5634.779327</td>\n",
       "      <td>5785.490456</td>\n",
       "      <td>5936.201584</td>\n",
       "    </tr>\n",
       "    <tr>\n",
       "      <th>Northeast</th>\n",
       "      <td>5532.076445</td>\n",
       "      <td>5695.673003</td>\n",
       "      <td>5859.269560</td>\n",
       "    </tr>\n",
       "    <tr>\n",
       "      <th>South</th>\n",
       "      <td>2056.242774</td>\n",
       "      <td>2211.879901</td>\n",
       "      <td>2367.517028</td>\n",
       "    </tr>\n",
       "    <tr>\n",
       "      <th>West</th>\n",
       "      <td>2625.033448</td>\n",
       "      <td>2814.830692</td>\n",
       "      <td>3004.627937</td>\n",
       "    </tr>\n",
       "    <tr>\n",
       "      <th rowspan=\"4\" valign=\"top\">cool</th>\n",
       "      <th>Midwest</th>\n",
       "      <td>894.424918</td>\n",
       "      <td>956.074312</td>\n",
       "      <td>1017.723707</td>\n",
       "    </tr>\n",
       "    <tr>\n",
       "      <th>Northeast</th>\n",
       "      <td>918.910914</td>\n",
       "      <td>983.919861</td>\n",
       "      <td>1048.928808</td>\n",
       "    </tr>\n",
       "    <tr>\n",
       "      <th>South</th>\n",
       "      <td>2524.701913</td>\n",
       "      <td>2639.850988</td>\n",
       "      <td>2755.000063</td>\n",
       "    </tr>\n",
       "    <tr>\n",
       "      <th>West</th>\n",
       "      <td>1377.044722</td>\n",
       "      <td>1576.774204</td>\n",
       "      <td>1776.503686</td>\n",
       "    </tr>\n",
       "  </tbody>\n",
       "</table>"
      ],
      "text/plain": [
       "<IPython.core.display.HTML object>"
      ]
     },
     "metadata": {},
     "output_type": "display_data"
    }
   ],
   "source": [
    "cap = \"\"\"\n",
    "<b> Table 2.</b> <em> Point estimation and 95%CI of 2015 data.</em>\n",
    "When Temperature Type is 'heat', then the data is the estimation \n",
    "and 95%CI of heating degree days.\n",
    "When Temperature Type is 'cool', then the data is the estimation \n",
    "and 95%CI of cooling degree days.\n",
    "\"\"\"\n",
    "t2 = table_15.to_html()\n",
    "t2 = t2.rsplit('\\n')\n",
    "t2.insert(1, cap)\n",
    "tab2 = ''\n",
    "for i, line in enumerate(t2):\n",
    "    tab2 += line\n",
    "    if i < (len(t2) - 1):\n",
    "        tab2 += '\\n'\n",
    "display(HTML(tab2))"
   ]
  },
  {
   "cell_type": "markdown",
   "id": "d1319b60",
   "metadata": {},
   "source": [
    "#### Part b\n",
    "We use the same method to estimate the change between 2009 and 2015 data"
   ]
  },
  {
   "cell_type": "code",
   "execution_count": 18,
   "id": "dde9ae6b",
   "metadata": {},
   "outputs": [],
   "source": [
    "change_point_estimation_heat = heat_point_estimation_15-heat_point_estimation_09\n",
    "change_point_estimation_cool = cool_point_estimation_15-cool_point_estimation_09\n",
    "sd_change_heat = ((heat_rep_sd_09)**2 +(heat_rep_sd_15)**2)**(0.5)\n",
    "sd_change_cool = ((cool_rep_sd_09)**2 +(cool_rep_sd_15)**2)**(0.5)\n",
    "change_heat_lwr = change_point_estimation_heat-norm.ppf(0.975)*sd_change_heat\n",
    "change_heat_upr = change_point_estimation_heat+norm.ppf(0.975)*sd_change_heat\n",
    "change_cool_lwr = change_point_estimation_cool-norm.ppf(0.975)*sd_change_cool\n",
    "change_cool_upr = change_point_estimation_cool+norm.ppf(0.975)*sd_change_cool\n",
    "store_result_change = [change_heat_lwr,change_point_estimation_heat,change_heat_upr,\n",
    "                       change_cool_lwr,change_point_estimation_cool,change_cool_upr]\n",
    "table_change = create_table(store_result_change)"
   ]
  },
  {
   "cell_type": "markdown",
   "id": "24003367",
   "metadata": {},
   "source": [
    "We get the result ```table_change```. And display it,"
   ]
  },
  {
   "cell_type": "code",
   "execution_count": 19,
   "id": "5cceb2d8",
   "metadata": {},
   "outputs": [
    {
     "data": {
      "text/html": [
       "<table border=\"1\" class=\"dataframe\">\n",
       "\n",
       "<b> Table 3.</b> <em> Point estimation and 95%CI of 2015 data.</em>\n",
       "When Temperature Type is 'heat', then the data is the estimation \n",
       "and 95%CI of heating degree days.\n",
       "When Temperature Type is 'cool', then the data is the estimation \n",
       "and 95%CI of cooling degree days.\n",
       "\n",
       "  <thead>\n",
       "    <tr style=\"text-align: right;\">\n",
       "      <th></th>\n",
       "      <th></th>\n",
       "      <th>lower bound of estimation</th>\n",
       "      <th>point estimation</th>\n",
       "      <th>upper bound of estimation</th>\n",
       "    </tr>\n",
       "    <tr>\n",
       "      <th>Temperature Type</th>\n",
       "      <th>Census Region</th>\n",
       "      <th></th>\n",
       "      <th></th>\n",
       "      <th></th>\n",
       "    </tr>\n",
       "  </thead>\n",
       "  <tbody>\n",
       "    <tr>\n",
       "      <th rowspan=\"4\" valign=\"top\">heat</th>\n",
       "      <th>Midwest</th>\n",
       "      <td>-716.197673</td>\n",
       "      <td>-539.846575</td>\n",
       "      <td>-363.495476</td>\n",
       "    </tr>\n",
       "    <tr>\n",
       "      <th>Northeast</th>\n",
       "      <td>-182.784541</td>\n",
       "      <td>-5.315129</td>\n",
       "      <td>172.154284</td>\n",
       "    </tr>\n",
       "    <tr>\n",
       "      <th>South</th>\n",
       "      <td>-660.226415</td>\n",
       "      <td>-484.787635</td>\n",
       "      <td>-309.348855</td>\n",
       "    </tr>\n",
       "    <tr>\n",
       "      <th>West</th>\n",
       "      <td>-697.693900</td>\n",
       "      <td>-444.810738</td>\n",
       "      <td>-191.927577</td>\n",
       "    </tr>\n",
       "    <tr>\n",
       "      <th rowspan=\"4\" valign=\"top\">cool</th>\n",
       "      <th>Midwest</th>\n",
       "      <td>227.100228</td>\n",
       "      <td>295.185931</td>\n",
       "      <td>363.271633</td>\n",
       "    </tr>\n",
       "    <tr>\n",
       "      <th>Northeast</th>\n",
       "      <td>235.012420</td>\n",
       "      <td>303.204737</td>\n",
       "      <td>371.397053</td>\n",
       "    </tr>\n",
       "    <tr>\n",
       "      <th>South</th>\n",
       "      <td>303.602230</td>\n",
       "      <td>432.122610</td>\n",
       "      <td>560.642991</td>\n",
       "    </tr>\n",
       "    <tr>\n",
       "      <th>West</th>\n",
       "      <td>40.035177</td>\n",
       "      <td>248.132060</td>\n",
       "      <td>456.228942</td>\n",
       "    </tr>\n",
       "  </tbody>\n",
       "</table>"
      ],
      "text/plain": [
       "<IPython.core.display.HTML object>"
      ]
     },
     "metadata": {},
     "output_type": "display_data"
    }
   ],
   "source": [
    "cap = \"\"\"\n",
    "<b> Table 3.</b> <em> Point estimation and 95%CI of 2015 data.</em>\n",
    "When Temperature Type is 'heat', then the data is the estimation \n",
    "and 95%CI of heating degree days.\n",
    "When Temperature Type is 'cool', then the data is the estimation \n",
    "and 95%CI of cooling degree days.\n",
    "\"\"\"\n",
    "t3 = table_change.to_html()\n",
    "t3 = t3.rsplit('\\n')\n",
    "t3.insert(1, cap)\n",
    "tab3 = ''\n",
    "for i, line in enumerate(t3):\n",
    "    tab3 += line\n",
    "    if i < (len(t3) - 1):\n",
    "        tab3 += '\\n'\n",
    "display(HTML(tab3))"
   ]
  },
  {
   "cell_type": "markdown",
   "id": "4617c135",
   "metadata": {},
   "source": [
    "### Problem 3\n",
    "First we visualize the result of 2009 data in **Problem 2 Part a**.\n",
    "And we will draw a bar for the result."
   ]
  },
  {
   "cell_type": "code",
   "execution_count": 20,
   "id": "17fa59f4",
   "metadata": {
    "scrolled": true
   },
   "outputs": [
    {
     "data": {
      "image/png": "[encoded data removed]",
      "text/plain": [
       "<Figure size 432x288 with 1 Axes>"
      ]
     },
     "metadata": {
      "needs_background": "light"
     },
     "output_type": "display_data"
    }
   ],
   "source": [
    "ax_1 = table_09.plot(kind='barh')"
   ]
  },
  {
   "cell_type": "markdown",
   "id": "a4f61f8c",
   "metadata": {},
   "source": [
    "  ### Figure1: Horizon Bar of 2009 Data Estimation"
   ]
  },
  {
   "cell_type": "markdown",
   "id": "6cf4a290",
   "metadata": {},
   "source": [
    "Then we consider to draw a errorbar of it."
   ]
  },
  {
   "cell_type": "code",
   "execution_count": 21,
   "id": "b40158db",
   "metadata": {},
   "outputs": [
    {
     "data": {
      "image/png": "[encoded data removed]",
      "text/plain": [
       "<Figure size 432x288 with 1 Axes>"
      ]
     },
     "metadata": {
      "needs_background": "light"
     },
     "output_type": "display_data"
    }
   ],
   "source": [
    "ax_2 = table_09['point estimation'].plot.barh(\n",
    "    xerr=table_09['upper bound of estimation']-table_09['point estimation'],\n",
    "    capsize=4)"
   ]
  },
  {
   "cell_type": "markdown",
   "id": "b2876e7f",
   "metadata": {},
   "source": [
    "### Figure2: Horizon Errorbar(bar) of 2009 Data Estimation"
   ]
  },
  {
   "cell_type": "markdown",
   "id": "e9f59321",
   "metadata": {},
   "source": [
    "Finally, we consider to draw a errorbar with point estimation as a points instead of bar.\n",
    "That is to say We draw a errorbar just like the figure in the slide using in the class.\n",
    "This is a liitle bit complex, hence we define ```create_errorbar_point``` to reuse the code."
   ]
  },
  {
   "cell_type": "code",
   "execution_count": 22,
   "id": "8a4b1123",
   "metadata": {},
   "outputs": [
    {
     "data": {
      "image/png": "[encoded data removed]",
      "text/plain": [
       "<Figure size 432x288 with 1 Axes>"
      ]
     },
     "metadata": {
      "needs_background": "light"
     },
     "output_type": "display_data"
    }
   ],
   "source": [
    "def create_errorbar_point(table):\n",
    "    ax = table.loc['heat'].reset_index().plot(\n",
    "        kind = 'scatter',\n",
    "        x='point estimation',\n",
    "        y='Census Region',\n",
    "        marker='s',\n",
    "        color='red',\n",
    "    )\n",
    "\n",
    "    _ = plt.scatter(\n",
    "        data = table.loc['cool'].reset_index(),\n",
    "        x='point estimation',\n",
    "        y='Census Region',\n",
    "        marker='s',\n",
    "        color='green',\n",
    "    )\n",
    "\n",
    "    _ = plt.errorbar(\n",
    "        data=table.loc['heat'].reset_index(),\n",
    "        x='point estimation',\n",
    "        y='Census Region',\n",
    "        fmt='None',\n",
    "        marker='s',\n",
    "        xerr=table.loc['heat']['upper bound of estimation']-\n",
    "             table.loc['heat']['point estimation'],\n",
    "        ecolor='black',\n",
    "        capsize=4,\n",
    "    )\n",
    "    _ = plt.errorbar(\n",
    "        data=table.loc['cool'].reset_index(),\n",
    "        x='point estimation',\n",
    "        y='Census Region',\n",
    "        fmt='None',\n",
    "        marker='s',\n",
    "        xerr=table.loc['cool']['upper bound of estimation']-\n",
    "             table.loc['cool']['point estimation'],\n",
    "        ecolor='black',\n",
    "        capsize=4\n",
    "    )\n",
    "    plt.legend(['heat estiamtion','cool estimation'])\n",
    "\n",
    "ax_3 = create_errorbar_point(table_09)"
   ]
  },
  {
   "cell_type": "markdown",
   "id": "c32e6c3d",
   "metadata": {},
   "source": [
    "### Figure3: Horizon Errorbar(point) with 95%CI of 2009 Data Estimation"
   ]
  },
  {
   "cell_type": "markdown",
   "id": "0f536ab9",
   "metadata": {},
   "source": [
    "For 2015 data. We use the exactly same method to get the figure "
   ]
  },
  {
   "cell_type": "code",
   "execution_count": 23,
   "id": "64ca729c",
   "metadata": {},
   "outputs": [
    {
     "data": {
      "image/png": "[encoded data removed]",
      "text/plain": [
       "<Figure size 432x288 with 1 Axes>"
      ]
     },
     "metadata": {
      "needs_background": "light"
     },
     "output_type": "display_data"
    }
   ],
   "source": [
    "ax_4 = table_15.plot(kind='barh') "
   ]
  },
  {
   "cell_type": "markdown",
   "id": "b2ab9f34",
   "metadata": {},
   "source": [
    "  ### Figure4: Horizon Bar with 95%CI of 2015 Data Estimation"
   ]
  },
  {
   "cell_type": "code",
   "execution_count": 24,
   "id": "199eecb7",
   "metadata": {},
   "outputs": [
    {
     "data": {
      "image/png": "[encoded data removed]",
      "text/plain": [
       "<Figure size 432x288 with 1 Axes>"
      ]
     },
     "metadata": {
      "needs_background": "light"
     },
     "output_type": "display_data"
    }
   ],
   "source": [
    "ax_5 = table_15['point estimation'].plot.barh(\n",
    "    xerr=table_15['upper bound of estimation']-table_15['point estimation'],\n",
    "    capsize=4)"
   ]
  },
  {
   "cell_type": "markdown",
   "id": "fa6c2b6f",
   "metadata": {},
   "source": [
    "### Figure5: Horizon Errorbar(bar) with 95%CI of 2015 Data Estimation"
   ]
  },
  {
   "cell_type": "code",
   "execution_count": 25,
   "id": "55534b37",
   "metadata": {},
   "outputs": [
    {
     "data": {
      "image/png": "[encoded data removed]",
      "text/plain": [
       "<Figure size 432x288 with 1 Axes>"
      ]
     },
     "metadata": {
      "needs_background": "light"
     },
     "output_type": "display_data"
    }
   ],
   "source": [
    "ax_6 = create_errorbar_point(table_15)"
   ]
  },
  {
   "cell_type": "markdown",
   "id": "28e44813",
   "metadata": {},
   "source": [
    "### Figure6: Horizon Errorbar(point) with 95%CI of 2015 Data Estimation\n"
   ]
  },
  {
   "cell_type": "markdown",
   "id": "69189ba0",
   "metadata": {},
   "source": [
    "For ```change_table``` we get in **Problem 2 part b**. We use the same way to visualize"
   ]
  },
  {
   "cell_type": "code",
   "execution_count": 26,
   "id": "d4a63ea8",
   "metadata": {},
   "outputs": [
    {
     "data": {
      "image/png": "[encoded data removed]",
      "text/plain": [
       "<Figure size 432x288 with 1 Axes>"
      ]
     },
     "metadata": {
      "needs_background": "light"
     },
     "output_type": "display_data"
    }
   ],
   "source": [
    "ax_7 = table_change.plot(kind='barh')"
   ]
  },
  {
   "cell_type": "markdown",
   "id": "bb7197ba",
   "metadata": {},
   "source": [
    "  ### Figure7: Horizon Bar of Change Estimation Between 2009 and 2015"
   ]
  },
  {
   "cell_type": "code",
   "execution_count": 27,
   "id": "26154c61",
   "metadata": {},
   "outputs": [
    {
     "data": {
      "image/png": "[encoded data removed]",
      "text/plain": [
       "<Figure size 432x288 with 1 Axes>"
      ]
     },
     "metadata": {
      "needs_background": "light"
     },
     "output_type": "display_data"
    }
   ],
   "source": [
    "ax_8 = table_change['point estimation'].plot.barh(\n",
    "    xerr=table_change['upper bound of estimation']-table_change['point estimation'],\n",
    "    capsize=4)"
   ]
  },
  {
   "cell_type": "markdown",
   "id": "b2b7eb32",
   "metadata": {},
   "source": [
    "  ### Figure8: Horizon Errorbar(bar) with 95%CI  of Change Estimation Between 2009 and 2015"
   ]
  },
  {
   "cell_type": "code",
   "execution_count": 28,
   "id": "c13bbf94",
   "metadata": {},
   "outputs": [
    {
     "data": {
      "image/png": "[encoded data removed]",
      "text/plain": [
       "<Figure size 432x288 with 1 Axes>"
      ]
     },
     "metadata": {
      "needs_background": "light"
     },
     "output_type": "display_data"
    }
   ],
   "source": [
    "ax_9 = create_errorbar_point(table_change)"
   ]
  },
  {
   "cell_type": "markdown",
   "id": "8ae13bcf",
   "metadata": {},
   "source": [
    "### Figure9: Horizon Errorbar(point) with 95%CI  of Change Estimation Between 2009 and 2015"
   ]
  },
  {
   "cell_type": "code",
   "execution_count": null,
   "id": "e86c27ee",
   "metadata": {},
   "outputs": [],
   "source": []
  }
 ],
 "metadata": {
  "jupytext": {
   "formats": "ipynb,py:light"
  },
  "kernelspec": {
   "display_name": "Python 3",
   "language": "python",
   "name": "python3"
  },
  "language_info": {
   "codemirror_mode": {
    "name": "ipython",
    "version": 3
   },
   "file_extension": ".py",
   "mimetype": "text/x-python",
   "name": "python",
   "nbconvert_exporter": "python",
   "pygments_lexer": "ipython3",
   "version": "3.7.7"
  }
 },
 "nbformat": 4,
 "nbformat_minor": 5
}
