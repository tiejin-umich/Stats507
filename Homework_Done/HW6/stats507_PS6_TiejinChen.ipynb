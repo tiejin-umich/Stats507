{
 "cells": [
  {
   "cell_type": "markdown",
   "id": "52205277",
   "metadata": {},
   "source": [
    "# Problem Set 6\n",
    "### Question 0\n",
    "The link to my repo is:https://github.com/tiejin-umich/Stats507 or\n",
    "[here](https://github.com/tiejin-umich/Stats507)\n",
    "We put all the homework we done in the folder ```Homework_Done```\n",
    "And put all other files in the main folder."
   ]
  },
  {
   "cell_type": "markdown",
   "id": "7dd0f708",
   "metadata": {},
   "source": [
    "### Question 1\n",
    "To run the code, it needs data. Hence here we also push data file to the main folder.\n",
    "However, We might not push these files.\n",
    "Hence we do not store the command line we use to push these files.\n",
    "And here is the command line we use:\n",
    "\n",
    "    #Extract your code as PS2_qs3_tiejin.py.\n",
    "    git add PS2_qs3_tiejin.py\n",
    "    #Edit my README.md.\n",
    "    git add README.md\n",
    "    git commit -m \"PS6_Q1_first_commit\"\n",
    "    git push\n",
    "    git branch ps4\n",
    "    git checkout ps4\n",
    "    #Edit the script.\n",
    "    git add PS2_qs3_tiejin.py\n",
    "    git commit -m \"update with PS4's code\"\n",
    "    git push --set-upstream origin ps4\n",
    "    git checkout main\n",
    "    git merge ps4\n",
    "    git push\n",
    "\n"
   ]
  },
  {
   "cell_type": "markdown",
   "id": "c4a29815",
   "metadata": {},
   "source": [
    "We have the following link to show:\n",
    "1. in step3, we have the commit:\n",
    "https://github.com/tiejin-umich/Stats507/commit/eaa892d7e3f5a0b8272eed1669eaf079244545a0\n",
    "2. in step5, we have the commit:\n",
    "https://github.com/tiejin-umich/Stats507/commit/5716954733870aaaac907f6337dcccec801ef8be"
   ]
  },
  {
   "cell_type": "markdown",
   "id": "4da99ed4",
   "metadata": {},
   "source": [
    "### Question 2\n",
    "The link to file we uploads is:\n",
    "https://github.com/tiejin-umich/Stats507/blob/main/pandas_notes/pd_topic_tiejin.py"
   ]
  },
  {
   "cell_type": "markdown",
   "id": "28e93e3f",
   "metadata": {},
   "source": [
    "### Question 3\n",
    "\n",
    "In Question 3, We want to correct PS1 and PS5"
   ]
  },
  {
   "cell_type": "markdown",
   "id": "b6ced7a5",
   "metadata": {},
   "source": [
    "For PS1, we have the following comment:\n",
    "\n",
    "**Q0: -3 for don't provide both raw and formatted versions**\n",
    "\n",
    "We want to correct this error, and the commit correction link is:\n",
    "https://github.com/tiejin-umich/Stats507/commit/3f510bc817a8ba591de288c0e216e7496f66a9eb"
   ]
  },
  {
   "cell_type": "markdown",
   "id": "9438bf59",
   "metadata": {},
   "source": [
    "For PS5, we have not lost our points yet. However, we find we forget to polish our writing style such as forget to write docstring for a fucntion or the length of a line is too long. And we will lose our points absolutely. Hence we want to correct PS5 Here.\n",
    "\n",
    "And the commit correction link is:\n",
    "https://github.com/tiejin-umich/Stats507/commit/e5442ab2a144fb09378f28b0327ca5328801d2fd"
   ]
  },
  {
   "cell_type": "code",
   "execution_count": null,
   "id": "82256466",
   "metadata": {},
   "outputs": [],
   "source": []
  }
 ],
 "metadata": {
  "jupytext": {
   "formats": "ipynb,py:light"
  },
  "kernelspec": {
   "display_name": "Python 3",
   "language": "python",
   "name": "python3"
  },
  "language_info": {
   "codemirror_mode": {
    "name": "ipython",
    "version": 3
   },
   "file_extension": ".py",
   "mimetype": "text/x-python",
   "name": "python",
   "nbconvert_exporter": "python",
   "pygments_lexer": "ipython3",
   "version": "3.7.7"
  }
 },
 "nbformat": 4,
 "nbformat_minor": 5
}
