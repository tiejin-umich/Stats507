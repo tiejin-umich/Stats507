{
 "cells": [
  {
   "cell_type": "markdown",
   "id": "59f8e59d",
   "metadata": {},
   "source": [
    "# Question 0\n",
    "This is *question 0* for [problem set1](https://jbhender.github.io/Stats507/F21/ps/ps1.html) of [Stats507](https://jbhender.github.io/Stats507/F21/).\n",
    "\n",
    ">Question 0 is about Markdown.\n",
    "\n",
    "The next question is about the **Fibonnaci sequence**, $F_n = F_1+F_2$. In part **a**, \n",
    "we will define a Python function `fib_rec()`.  \n",
    "\n",
    "Below is a …\n",
    "\n",
    "### Level 3 Header\n",
    "\n",
    "Next, we can make a bulleted list:\n",
    "\n",
    "- Item 1\n",
    "    - detail 1     \n",
    "    + detail 2\n",
    "- Item 2\n",
    "\n",
    "Finally, we can make an enumerated list:\n",
    "\n",
    "    a. Item 1    \n",
    "    b. Item 2  \n",
    "    c. Item 3\n",
    "\n",
    " \n"
   ]
  },
  {
   "cell_type": "markdown",
   "id": "0cb89b89",
   "metadata": {},
   "source": [
    "Now begin our quetions. Firstly, we import all the module we need."
   ]
  },
  {
   "cell_type": "code",
   "execution_count": 1,
   "id": "bce7d318",
   "metadata": {},
   "outputs": [],
   "source": [
    "import numpy as np\n",
    "import time\n",
    "import pandas as pd\n",
    "from scipy.stats import norm,beta\n",
    "import warnings"
   ]
  },
  {
   "cell_type": "markdown",
   "id": "b42a0d61",
   "metadata": {},
   "source": [
    "# Problem 1\n",
    "### Part a\n",
    "For part **a**, we define `fib_rec()` to compute $F_n$ with recursive method. In end of block, \n",
    "we print 3 strings to show the accuracy of our function."
   ]
  },
  {
   "cell_type": "code",
   "execution_count": 2,
   "id": "76656e74",
   "metadata": {
    "lines_to_next_cell": 0
   },
   "outputs": [
    {
     "name": "stdout",
     "output_type": "stream",
     "text": [
      "F7 equals to 13, while our fib_rec result is 13\n",
      "F11 equals to 89, while our fib_rec result is 89\n",
      "F13 equals to 233, while our fib_rec result is 233\n"
     ]
    }
   ],
   "source": [
    "def fib_rec(n,a=0,b=1):\n",
    "    \"\"\"\n",
    "\n",
    "    :param n: type int;  present n in Fn, must greater than 0\n",
    "    :param a: type float or int;  present F_0\n",
    "    :param b: type float or int; present F_1\n",
    "    :return: return a fibonacci result. type float or type int.\n",
    "    we will use int to convert n, if the input n cannot convert to int, there is a error.\n",
    "\n",
    "    \"\"\"\n",
    "    try:\n",
    "        n = int(n)\n",
    "    except:\n",
    "        raise TypeError('n must be an int')\n",
    "    if n < 0:\n",
    "        raise ValueError('n must greater than 0')\n",
    "    if n == 0:\n",
    "        return a\n",
    "    if n == 1:\n",
    "        return b\n",
    "    return fib_rec(n-1)+fib_rec(n-2)\n",
    "\n",
    "\n",
    "test_1 = 'F7 equals to 13, while our {function_name} result is {result}'\n",
    "test_2 = 'F11 equals to 89, while our {function_name} result is {result}'\n",
    "test_3 = 'F13 equals to 233, while our {function_name} result is {result}'\n",
    "print(test_1.format(function_name = 'fib_rec',result = fib_rec(7)))\n",
    "print(test_2.format(function_name = 'fib_rec',result = fib_rec(11)))\n",
    "print(test_3.format(function_name = 'fib_rec',result = fib_rec(13)))\n",
    "\n",
    "\n"
   ]
  },
  {
   "cell_type": "markdown",
   "id": "6f22256a",
   "metadata": {},
   "source": [
    "### Part b\n",
    "\n",
    "For part **b**, we define a Python function `fib_for` to calculate $F_n$ with for loop. \n",
    "we also print stings to ensure the accuracy."
   ]
  },
  {
   "cell_type": "code",
   "execution_count": 3,
   "id": "03799999",
   "metadata": {},
   "outputs": [
    {
     "name": "stdout",
     "output_type": "stream",
     "text": [
      "F7 equals to 13, while our fib_for result is 13\n",
      "F11 equals to 89, while our fib_for result is 89\n",
      "F13 equals to 233, while our fib_for result is 233\n"
     ]
    }
   ],
   "source": [
    "def fib_for(n):\n",
    "    \"\"\"\n",
    "\n",
    "    :param n: present n in Fn, must greater than 0\n",
    "    :return:  return a fibonacci result. type int\n",
    "    we will use int to convert n, if the input n cannot convert to int, there is a error.\n",
    "    \"\"\"\n",
    "    try:\n",
    "        n = int(n)\n",
    "    except:\n",
    "        raise TypeError('n must be an int')\n",
    "    if n < 0:\n",
    "        raise ValueError('n must greater than 0')\n",
    "    res = 0\n",
    "    n1 = 1\n",
    "    n2 = 0\n",
    "    if n == 0:\n",
    "        return 0\n",
    "    if n == 1:\n",
    "        return 1\n",
    "    for i in range(n-1):\n",
    "        res = n1+n2\n",
    "        n2 = n1\n",
    "        n1 = res\n",
    "    return res\n",
    "print(test_1.format(function_name = 'fib_for',result = fib_for(7)))\n",
    "print(test_2.format(function_name = 'fib_for',result = fib_for(11)))\n",
    "print(test_3.format(function_name = 'fib_for',result = fib_for(13)))\n",
    "\n",
    "\n"
   ]
  },
  {
   "cell_type": "markdown",
   "id": "478b3039",
   "metadata": {},
   "source": [
    "### Part c\n",
    "\n",
    "For part **c**, we define a Python function `fib_whl` to calculate $F_n$ with while loop. \n",
    "we also print stings to ensure the accuracy. "
   ]
  },
  {
   "cell_type": "code",
   "execution_count": 4,
   "id": "04bcb644",
   "metadata": {
    "lines_to_next_cell": 1
   },
   "outputs": [
    {
     "name": "stdout",
     "output_type": "stream",
     "text": [
      "F7 equals to 13, while our fib_whl result is 13\n",
      "F11 equals to 89, while our fib_whl result is 89\n",
      "F13 equals to 233, while our fib_whl result is 233\n"
     ]
    }
   ],
   "source": [
    "def fib_whl(n):\n",
    "    \"\"\"\n",
    "\n",
    "    :param n: present n in Fn, must greater than 0\n",
    "    :return:  return a fibonacci result. type int\n",
    "    we will use int to convert n, if the input n cannot convert to int, there is a error.\n",
    "    \"\"\"\n",
    "    try:\n",
    "        n = int(n)\n",
    "    except:\n",
    "        raise TypeError('n must be an int')\n",
    "    if n < 0:\n",
    "        raise ValueError('n must greater than 0')\n",
    "    res = 0\n",
    "    n1 = 1\n",
    "    n2 = 0\n",
    "    i = 0\n",
    "    if n == 0:\n",
    "        return 0\n",
    "    if n == 1:\n",
    "        return 1\n",
    "    while i < n-1:\n",
    "        i+=1\n",
    "        res = n1 + n2\n",
    "        n2 = n1\n",
    "        n1 = res\n",
    "    return res\n",
    "print(test_1.format(function_name = 'fib_whl',result = fib_whl(7)))\n",
    "print(test_2.format(function_name = 'fib_whl',result = fib_whl(11)))\n",
    "print(test_3.format(function_name = 'fib_whl',result = fib_whl(13)))"
   ]
  },
  {
   "cell_type": "markdown",
   "id": "02367bd1",
   "metadata": {},
   "source": [
    "### Part d\n",
    "\n",
    "For part **d**, we define a Python function `fib_rnd` to calculate $F_n$ with rounding method. \n",
    "we also print stings to ensure the accuracy. "
   ]
  },
  {
   "cell_type": "code",
   "execution_count": 5,
   "id": "aab085e6",
   "metadata": {
    "lines_to_next_cell": 1
   },
   "outputs": [
    {
     "name": "stdout",
     "output_type": "stream",
     "text": [
      "F7 equals to 13, while our fib_rnd result is 13\n",
      "F11 equals to 89, while our fib_rnd result is 89\n",
      "F13 equals to 233, while our fib_rnd result is 233\n"
     ]
    }
   ],
   "source": [
    "def fib_rnd(n):\n",
    "    \"\"\"\n",
    "\n",
    "    :param n: present n in Fn, must greater than 0\n",
    "    :return:  return a fibonacci result. type int\n",
    "    we will use int to convert n, if the input n cannot convert to int, there is a error.\n",
    "    \"\"\"\n",
    "    try:\n",
    "        n = int(n)\n",
    "    except:\n",
    "        raise TypeError('n must be an int')\n",
    "    if n < 0:\n",
    "        raise ValueError('n must greater than 0')\n",
    "    phi = (1+5**0.5)/2\n",
    "    return round(phi**n/(5**0.5))\n",
    "print(test_1.format(function_name = 'fib_rnd',result = fib_rnd(7)))\n",
    "print(test_2.format(function_name = 'fib_rnd',result = fib_rnd(11)))\n",
    "print(test_3.format(function_name = 'fib_rnd',result = fib_rnd(13)))"
   ]
  },
  {
   "cell_type": "markdown",
   "id": "2719e77d",
   "metadata": {},
   "source": [
    "### Part e\n",
    "\n",
    "For part **e**, we define a Python function `fib_flr` to calculate $F_n$ with truncation method. \n",
    "we also print stings to ensure the accuracy. "
   ]
  },
  {
   "cell_type": "code",
   "execution_count": 6,
   "id": "d8e1484a",
   "metadata": {},
   "outputs": [
    {
     "name": "stdout",
     "output_type": "stream",
     "text": [
      "F7 equals to 13, while our fib_flr result is 13\n",
      "F11 equals to 89, while our fib_flr result is 89\n",
      "F13 equals to 233, while our fib_flr result is 233\n"
     ]
    }
   ],
   "source": [
    "def fib_flr(n):\n",
    "    \"\"\"\n",
    "\n",
    "    :param n: present n in Fn, must greater than 0\n",
    "    :return:  return a fibonacci result. type int\n",
    "    we will use int to convert n, if the input n cannot convert to int, there is a error.\n",
    "    \"\"\"\n",
    "    try:\n",
    "        n = int(n)\n",
    "    except:\n",
    "        raise TypeError('n must be an int')\n",
    "    if n < 0:\n",
    "        raise ValueError('n must greater than 0')\n",
    "    phi = (1+5**0.5)/2\n",
    "    return int(phi**n/(5**0.5)+0.5)\n",
    "print(test_1.format(function_name = 'fib_flr',result = fib_flr(7)))\n",
    "print(test_2.format(function_name = 'fib_flr',result = fib_flr(11)))\n",
    "print(test_3.format(function_name = 'fib_flr',result = fib_flr(13)))"
   ]
  },
  {
   "cell_type": "markdown",
   "id": "20949b21",
   "metadata": {},
   "source": [
    "### Part f\n",
    "\n",
    "In this part, we define two function `one_compare` and `compare` to help us to create a table. \n",
    "we will use `one_compare` function in `compare` function. And we will get a pd.dataframe at the end.\n",
    "\n",
    "We set the default number of experiments for every n to 31 in order to get stable estimation.\n",
    "And the result unit is second(s).\n",
    "\n",
    "We run all the experiments with a cpu AMD Ryzen7 5800x."
   ]
  },
  {
   "cell_type": "code",
   "execution_count": 7,
   "id": "ba4ea870",
   "metadata": {},
   "outputs": [],
   "source": [
    "def one_compare(n,fun,k=31):\n",
    "    \"\"\"\n",
    "\n",
    "    :param n: type int;\n",
    "    present n in Fn.\n",
    "    :param fun: type function;\n",
    "    present one different function to calculate Fn\n",
    "    :param k: type int;\n",
    "    present home many times we use fun to calculate Fn.\n",
    "    :return: type float;\n",
    "    return the median time of using fun to calculate Fn in k times.(unit second(s))\n",
    "    \"\"\"\n",
    "    time_res = []\n",
    "    for i in range(k):\n",
    "        time_point1 = time.perf_counter()\n",
    "        temp_fib_res = fun(n)\n",
    "        time_point2 = time.perf_counter()\n",
    "        time_res.append(time_point2-time_point1)\n",
    "    time_res = sorted(time_res)\n",
    "    if k % 2 == 1:\n",
    "        return time_res[int((k-1)/2)]\n",
    "    else:\n",
    "        return (time_res[int(k/2)] +time_res[int((k/2))-1])/2"
   ]
  },
  {
   "cell_type": "code",
   "execution_count": 8,
   "id": "4b8caacb",
   "metadata": {
    "lines_to_next_cell": 2
   },
   "outputs": [
    {
     "name": "stdout",
     "output_type": "stream",
     "text": [
      "|     |       5 |        15 |        25 |      35 |       37 |       38 |       39 |       40 |\n",
      "|:----|--------:|----------:|----------:|--------:|---------:|---------:|---------:|---------:|\n",
      "| rec | 2.3e-06 | 0.0002865 | 0.0359454 | 4.44454 | 11.6638  | 18.8605  | 30.4824  | 49.3475  |\n",
      "| for | 4e-07   | 7e-07     | 1.1e-06   | 1.4e-06 |  1.4e-06 |  1.5e-06 |  1.5e-06 |  1.5e-06 |\n",
      "| whl | 4e-07   | 9e-07     | 1.5e-06   | 2.1e-06 |  2.1e-06 |  2.2e-06 |  2.3e-06 |  2.4e-06 |\n",
      "| rnd | 4e-07   | 4e-07     | 5e-07     | 5e-07   |  4e-07   |  4e-07   |  4e-07   |  5e-07   |\n",
      "| flr | 4e-07   | 4e-07     | 4e-07     | 4e-07   |  4e-07   |  4e-07   |  4e-07   |  4e-07   |\n"
     ]
    }
   ],
   "source": [
    "def compare(n_list,k=31,table=True):\n",
    "    \"\"\"\n",
    "\n",
    "    :param n_list: type list;\n",
    "    present all the n in Fn we want to calculate.\n",
    "    :param k: type int;\n",
    "    present home many times we use fun to calculate Fn for every n in n_list.\n",
    "    :param table: type bool;\n",
    "    present whether we need to create a pd.dataframe.\n",
    "    :return:\n",
    "    if table is True, the return is a pd.dataframe. Otherwise it is a dict to store all the time data(unit second(s)).\n",
    "    \"\"\"\n",
    "    time_res_all = {}\n",
    "    for n in n_list:\n",
    "        time_res_temp = {}\n",
    "        rec_time = one_compare(n,fib_rec,k)\n",
    "        for_time = one_compare(n,fib_for,k)\n",
    "        whl_time = one_compare(n,fib_whl,k)\n",
    "        rnd_time = one_compare(n,fib_rnd,k)\n",
    "        flr_time = one_compare(n,fib_flr,k)\n",
    "        time_res_temp['rec'] = rec_time\n",
    "        time_res_temp['for'] = for_time\n",
    "        time_res_temp['whl'] = whl_time\n",
    "        time_res_temp['rnd'] = rnd_time\n",
    "        time_res_temp['flr'] = flr_time\n",
    "        time_res_all[n] = time_res_temp\n",
    "    if table == False:\n",
    "        return time_res_all\n",
    "    elif table == True:\n",
    "        df_table = pd.DataFrame(time_res_all)\n",
    "        return df_table\n",
    "#\n",
    "n_list = [5,15,25,35,37,38,39,40]\n",
    "table = compare(n_list)\n",
    "print(table.to_markdown())"
   ]
  },
  {
   "cell_type": "markdown",
   "id": "1a0af341",
   "metadata": {},
   "source": [
    "With the increasing of n, the time of recusive increase exponential. For loop and While loop increase a little, \n",
    "and time of rounding method and truncation method hardly increase.\n",
    "\n",
    "when n become larger and larger, it is almost impossible for recusive method to compute, \n",
    "Hence I create hand-craft column to form a new table."
   ]
  },
  {
   "cell_type": "code",
   "execution_count": 9,
   "id": "f2c2e464",
   "metadata": {},
   "outputs": [
    {
     "ename": "OverflowError",
     "evalue": "(34, 'Result too large')",
     "output_type": "error",
     "traceback": [
      "\u001b[1;31m---------------------------------------------------------------------------\u001b[0m",
      "\u001b[1;31mOverflowError\u001b[0m                             Traceback (most recent call last)",
      "\u001b[1;32m<ipython-input-9-f422214bb438>\u001b[0m in \u001b[0;36m<module>\u001b[1;34m\u001b[0m\n\u001b[1;32m----> 1\u001b[1;33m \u001b[0mfib_rnd\u001b[0m\u001b[1;33m(\u001b[0m\u001b[1;36m1475\u001b[0m\u001b[1;33m)\u001b[0m\u001b[1;33m\u001b[0m\u001b[1;33m\u001b[0m\u001b[0m\n\u001b[0m",
      "\u001b[1;32m<ipython-input-5-13586f8242a9>\u001b[0m in \u001b[0;36mfib_rnd\u001b[1;34m(n)\u001b[0m\n\u001b[0;32m     13\u001b[0m         \u001b[1;32mraise\u001b[0m \u001b[0mValueError\u001b[0m\u001b[1;33m(\u001b[0m\u001b[1;34m'n must greater than 0'\u001b[0m\u001b[1;33m)\u001b[0m\u001b[1;33m\u001b[0m\u001b[1;33m\u001b[0m\u001b[0m\n\u001b[0;32m     14\u001b[0m     \u001b[0mphi\u001b[0m \u001b[1;33m=\u001b[0m \u001b[1;33m(\u001b[0m\u001b[1;36m1\u001b[0m\u001b[1;33m+\u001b[0m\u001b[1;36m5\u001b[0m\u001b[1;33m**\u001b[0m\u001b[1;36m0.5\u001b[0m\u001b[1;33m)\u001b[0m\u001b[1;33m/\u001b[0m\u001b[1;36m2\u001b[0m\u001b[1;33m\u001b[0m\u001b[1;33m\u001b[0m\u001b[0m\n\u001b[1;32m---> 15\u001b[1;33m     \u001b[1;32mreturn\u001b[0m \u001b[0mround\u001b[0m\u001b[1;33m(\u001b[0m\u001b[0mphi\u001b[0m\u001b[1;33m**\u001b[0m\u001b[0mn\u001b[0m\u001b[1;33m/\u001b[0m\u001b[1;33m(\u001b[0m\u001b[1;36m5\u001b[0m\u001b[1;33m**\u001b[0m\u001b[1;36m0.5\u001b[0m\u001b[1;33m)\u001b[0m\u001b[1;33m)\u001b[0m\u001b[1;33m\u001b[0m\u001b[1;33m\u001b[0m\u001b[0m\n\u001b[0m\u001b[0;32m     16\u001b[0m \u001b[0mprint\u001b[0m\u001b[1;33m(\u001b[0m\u001b[0mtest_1\u001b[0m\u001b[1;33m.\u001b[0m\u001b[0mformat\u001b[0m\u001b[1;33m(\u001b[0m\u001b[0mfunction_name\u001b[0m \u001b[1;33m=\u001b[0m \u001b[1;34m'fib_rnd'\u001b[0m\u001b[1;33m,\u001b[0m\u001b[0mresult\u001b[0m \u001b[1;33m=\u001b[0m \u001b[0mfib_rnd\u001b[0m\u001b[1;33m(\u001b[0m\u001b[1;36m7\u001b[0m\u001b[1;33m)\u001b[0m\u001b[1;33m)\u001b[0m\u001b[1;33m)\u001b[0m\u001b[1;33m\u001b[0m\u001b[1;33m\u001b[0m\u001b[0m\n\u001b[0;32m     17\u001b[0m \u001b[0mprint\u001b[0m\u001b[1;33m(\u001b[0m\u001b[0mtest_2\u001b[0m\u001b[1;33m.\u001b[0m\u001b[0mformat\u001b[0m\u001b[1;33m(\u001b[0m\u001b[0mfunction_name\u001b[0m \u001b[1;33m=\u001b[0m \u001b[1;34m'fib_rnd'\u001b[0m\u001b[1;33m,\u001b[0m\u001b[0mresult\u001b[0m \u001b[1;33m=\u001b[0m \u001b[0mfib_rnd\u001b[0m\u001b[1;33m(\u001b[0m\u001b[1;36m11\u001b[0m\u001b[1;33m)\u001b[0m\u001b[1;33m)\u001b[0m\u001b[1;33m)\u001b[0m\u001b[1;33m\u001b[0m\u001b[1;33m\u001b[0m\u001b[0m\n",
      "\u001b[1;31mOverflowError\u001b[0m: (34, 'Result too large')"
     ]
    }
   ],
   "source": [
    "fib_rnd(1475)"
   ]
  },
  {
   "cell_type": "code",
   "execution_count": 23,
   "id": "875873af",
   "metadata": {},
   "outputs": [
    {
     "name": "stdout",
     "output_type": "stream",
     "text": [
      "|     |       5 |        15 |        25 |      35 |       37 |       38 |       39 |       40 | 1474          | 1475           |\n",
      "|:----|--------:|----------:|----------:|--------:|---------:|---------:|---------:|---------:|:--------------|:---------------|\n",
      "| rec | 2.3e-06 | 0.0002865 | 0.0359454 | 4.44454 | 11.6638  | 18.8605  | 30.4824  | 49.3475  | too much time | too much time  |\n",
      "| for | 4e-07   | 7e-07     | 1.1e-06   | 1.4e-06 |  1.4e-06 |  1.5e-06 |  1.5e-06 |  1.5e-06 | 6.3000e-05    | 6.4100e-05     |\n",
      "| whl | 4e-07   | 9e-07     | 1.5e-06   | 2.1e-06 |  2.1e-06 |  2.2e-06 |  2.3e-06 |  2.4e-06 | 1.09e-04      | 1.11e-04       |\n",
      "| rnd | 4e-07   | 4e-07     | 5e-07     | 5e-07   |  4e-07   |  4e-07   |  4e-07   |  5e-07   | 1.00e-06      | cannot compute |\n",
      "| flr | 4e-07   | 4e-07     | 4e-07     | 4e-07   |  4e-07   |  4e-07   |  4e-07   |  4e-07   | 1.10e-06      | cannot compute |\n"
     ]
    }
   ],
   "source": [
    "hand_dict = {}\n",
    "n_left_list = [1474, 1475]\n",
    "for n in n_left_list:\n",
    "    dict_temp = {'rec': \"too much time\"}\n",
    "    dict_temp['for'] = f'{one_compare(n, fib_for):.4e}'\n",
    "    dict_temp['whl'] = f'{one_compare(n, fib_whl):.2e}'\n",
    "    if n <1475:\n",
    "        dict_temp['rnd'] = f'{one_compare(n, fib_rnd):.2e}'\n",
    "        dict_temp['flr'] = f'{one_compare(n, fib_flr):.2e}'\n",
    "    else:\n",
    "        dict_temp['rnd'] = 'cannot compute'\n",
    "        dict_temp['flr'] = 'cannot compute'\n",
    "    hand_dict[n] = dict_temp\n",
    "hand_table = pd.DataFrame(hand_dict)\n",
    "complete_table = pd.concat([table,hand_table],axis=1)\n",
    "print(complete_table.to_markdown())"
   ]
  },
  {
   "cell_type": "markdown",
   "id": "31d265ac",
   "metadata": {},
   "source": [
    "# Question 2\n",
    "### Part a\n",
    "\n",
    "In part **a**, we define a new Python function `compute_pascal_raw` with input n presents the raw n we want to \n",
    "compute, and return a list with all the result. We calculate the 7-th raw to show the accuracy."
   ]
  },
  {
   "cell_type": "code",
   "execution_count": 24,
   "id": "4bda0359",
   "metadata": {},
   "outputs": [
    {
     "name": "stdout",
     "output_type": "stream",
     "text": [
      "[1, 7, 21, 35, 35, 21, 7, 1]\n"
     ]
    }
   ],
   "source": [
    "def compute_pascal_raw(n):\n",
    "    \"\"\"\n",
    "\n",
    "    :param n: type int; present row n we want to compute\n",
    "    :return: type list; a list with the result we calculate. list[i] presents i-th number of n-th row.\n",
    "    \"\"\"\n",
    "    if n < 0 or type(n)!=type(1):\n",
    "        raise ValueError('n must be an int greater than 0. ')\n",
    "    res =[1]\n",
    "    k =1\n",
    "    for i in range(1,n+1):\n",
    "        k *= (n+1-i)/i\n",
    "        res.append(round(k))\n",
    "    return res\n",
    "\n",
    "print(compute_pascal_raw(7))"
   ]
  },
  {
   "cell_type": "markdown",
   "id": "62262f7f",
   "metadata": {},
   "source": [
    "### part b\n",
    "\n",
    "In this part, we define a function `print_pascal` to print the first n row of pascal triangle.  "
   ]
  },
  {
   "cell_type": "code",
   "execution_count": 25,
   "id": "f49ad16b",
   "metadata": {},
   "outputs": [
    {
     "name": "stdout",
     "output_type": "stream",
     "text": [
      "             1              \n",
      "            1 1             \n",
      "           1 2 1            \n",
      "          1 3 3 1           \n",
      "         1 4 6 4 1          \n",
      "       1 5 10 10 5 1        \n",
      "     1 6 15 20 15 6 1       \n",
      "    1 7 21 35 35 21 7 1     \n",
      "  1 8 28 56 70 56 28 8 1    \n",
      "1 9 36 84 126 126 84 36 9 1 \n"
     ]
    }
   ],
   "source": [
    "def print_pascal(n):\n",
    "    \"\"\"\n",
    "\n",
    "    :param n: type int; present first row n we want to print\n",
    "    :return: no return.\n",
    "    \"\"\"\n",
    "    if n < 0 or type(n)!=type(1):\n",
    "        raise ValueError('n must be an int greater than 0. ')\n",
    "    all_line_str = []\n",
    "    for i in range(n):\n",
    "        pas_str = ''\n",
    "        pas_temp = compute_pascal_raw(i)\n",
    "        for j in pas_temp:\n",
    "            pas_str += str(j)\n",
    "            pas_str += ' '\n",
    "        all_line_str.append(pas_str)\n",
    "    max_length = len(all_line_str[-1])\n",
    "    for string in all_line_str:\n",
    "        print(string.center(max_length,' '))\n",
    "        \n",
    "print_pascal(10)"
   ]
  },
  {
   "cell_type": "markdown",
   "id": "1a97fb59",
   "metadata": {},
   "source": [
    "When n begins to be bigger, the n-th row we print seems a little bit dislocation. Hence we write a new function\n",
    "to solve this problem with bigger spacing."
   ]
  },
  {
   "cell_type": "code",
   "execution_count": 26,
   "id": "8a5966b8",
   "metadata": {
    "lines_to_next_cell": 1
   },
   "outputs": [
    {
     "name": "stdout",
     "output_type": "stream",
     "text": [
      "                          1                       \n",
      "                        1    1                    \n",
      "                     1    2    1                  \n",
      "                   1    3    3    1               \n",
      "                1    4    6    4    1             \n",
      "              1    5   10   10    5    1          \n",
      "           1    6   15   20   15    6    1        \n",
      "         1    7   21   35   35   21    7    1     \n",
      "      1    8   28   56   70   56   28    8    1   \n",
      "    1    9   36   84  126  126   84   36    9    1\n"
     ]
    }
   ],
   "source": [
    "def print_pascal_perfect(n):\n",
    "    \"\"\"\n",
    "    A more accurate version of pascal print. But less beauty.\n",
    "    :param n: type int; present first row n we want to print\n",
    "    :return: no return.\n",
    "    \"\"\"\n",
    "    all_line_str = []\n",
    "    max_number = max(compute_pascal_raw(n))\n",
    "    max_length = len(str(max_number))\n",
    "    for i in range(n):\n",
    "        pas_str = ''\n",
    "        pas_temp = compute_pascal_raw(i)\n",
    "        for j in pas_temp:\n",
    "            for n in range(max_length+2-len(str(j))):\n",
    "                pas_str += ' '\n",
    "            pas_str += str(j)\n",
    "        all_line_str.append(pas_str)\n",
    "    max_length = len(all_line_str[-1])\n",
    "    for string in all_line_str:\n",
    "        print(string.center(max_length,' '))\n",
    "print_pascal_perfect(10)"
   ]
  },
  {
   "cell_type": "markdown",
   "id": "5612c820",
   "metadata": {},
   "source": [
    "# Question 3\n",
    "### Part a\n",
    "In this part ,we define a function `estimate_mean_a` to give the point estimation and \n",
    "confidence interval of input $x$. \n",
    "\n",
    "We create a simple x to show the result.\n"
   ]
  },
  {
   "cell_type": "code",
   "execution_count": 2,
   "id": "ffbc38f1",
   "metadata": {},
   "outputs": [
    {
     "name": "stdout",
     "output_type": "stream",
     "text": [
      "{'level': 95, 'est': 2.5, 'lwr': 1.7339128365189171, 'upr': 3.2660871634810826}\n",
      "2.50[95%CI:(1.73,3.27)]\n"
     ]
    }
   ],
   "source": [
    "def estimate_mean_a(x,confi,string = None):\n",
    "    \"\"\"\n",
    "\n",
    "    :param x: type np.array;\n",
    "    the data we want to estimate the mean and confidence level.\n",
    "    Must must be the type that can convert to np.array.\n",
    "    :param confi: type float;\n",
    "    present the confidence level we want to estimate. must less than 100 and greater than 0.\n",
    "    :param string: None type;\n",
    "    decide whether we output a string or a dict. if string is not None, we output a str.\n",
    "    :return:\n",
    "    if string is True, then we return a string, otherwise we return a dict.\n",
    "    \"\"\"\n",
    "    if confi>100 or confi<0:\n",
    "        raise ValueError('confidence level must between 0 and 100')\n",
    "    try:\n",
    "        x = np.array(x)\n",
    "        np.mean(x)\n",
    "    except:\n",
    "        raise TypeError('x must be the type that can convert to np.array or x must be a number sequence')\n",
    "    x_bar = np.mean(x)\n",
    "    x_std = np.std(x)\n",
    "    x_se = x_std/(len(x)**0.5)\n",
    "    alpha = 1-confi/100\n",
    "    z = norm.ppf(1-(alpha/2))\n",
    "    x_1 = x_bar - x_se*z\n",
    "    x_2 = x_bar + x_se*z\n",
    "    dict = {'level':confi}\n",
    "    dict['est'] = x_bar\n",
    "    dict['lwr'] = x_1\n",
    "    dict['upr'] = x_2\n",
    "    if string != None:\n",
    "        output_string = '{est:.2f}[{level:.0f}%CI:({lwr:.2f},{upr:.2f})]'.format(**dict)\n",
    "        return output_string\n",
    "    else:\n",
    "        return dict\n",
    "\n",
    "test = [1,2,3,4,2,3]\n",
    "print(estimate_mean_a(test,95))\n",
    "print(estimate_mean_a(test,95,string=True))"
   ]
  },
  {
   "cell_type": "markdown",
   "id": "c667a983",
   "metadata": {},
   "source": [
    "### Part b\n",
    "In this part, we create a function `estimate_mean_b` to get the point esimation and\n",
    "confidence interval of input $x$. Here, we assumed that $x$ obey a Binomial distribution.\n",
    "\n",
    "We integrate four differents method to estimate in the function below. And we will \n",
    "show our result with this function in part **c**. We only show the warning in method 0\n",
    "and the error when x cannot be converted to np.array here.\n"
   ]
  },
  {
   "cell_type": "code",
   "execution_count": 3,
   "id": "c424cd2e",
   "metadata": {},
   "outputs": [
    {
     "name": "stderr",
     "output_type": "stream",
     "text": [
      "e:\\python\\lib\\site-packages\\ipykernel_launcher.py:38: UserWarning: min(np,n(1-p)) is less than 12, this is method may not be good enough\n"
     ]
    },
    {
     "data": {
      "text/plain": [
       "{'level': 95,\n",
       " 'est': 0.25,\n",
       " 'lwr': -0.17434465027856438,\n",
       " 'upr': 0.6743446502785644}"
      ]
     },
     "execution_count": 3,
     "metadata": {},
     "output_type": "execute_result"
    }
   ],
   "source": [
    "def estimate_mean_b(x,confi,method=0,string=None):\n",
    "    \"\"\"\n",
    "\n",
    "    :param x: type np.array;\n",
    "    the data we want to estimate the mean and confidence level.\n",
    "    Must must be the type that can convert to np.array.\n",
    "    :param confi: type float;\n",
    "    present the confidence level we want to estimate. must less than 100.\n",
    "    :param method: type int or type str;\n",
    "    present the different method to estimate. Can use int or str to different method.\n",
    "    this parameter have following options. we use '~' to present same method.\n",
    "    0(type int) ~ Standard_Bi(type str)\n",
    "    1(type int) ~ Clopper_Pearson(type str)\n",
    "    2(type int) ~ Jeffrey(type str)\n",
    "    3(type int) ~ Agresti_Coull(type str)\n",
    "    :param string:\n",
    "    None type;\n",
    "    decide whether we output a string or a dict. if string is not None, we output a str.\n",
    "    :return:\n",
    "    if string is True, then we return a string, otherwise we return a dict.\n",
    "\n",
    "    \"\"\"\n",
    "    all_method = [0,1,2,3,'Standard_Bi','Clopper_Pearson','Jeffrey','Agresti_Coull']\n",
    "    if method not in all_method:\n",
    "        raise ValueError('Wrong method parameter.')\n",
    "    if confi>100 or confi<0:\n",
    "        raise ValueError('confidence level must between 0 and 100')\n",
    "    try:\n",
    "        x = np.array(x)\n",
    "        np.mean(x)\n",
    "    except:\n",
    "        raise TypeError('x must be the type that can convert to np.array or x must be a number sequence')\n",
    "    if method == 0 or method == 'Standard_Bi':\n",
    "        p = np.mean(x)\n",
    "        n = len(x)\n",
    "        if min(n*p,n*(1-p)) <= 12:\n",
    "            warnings.warn('min(np,n(1-p)) is less than 12, this is method may not be good enough'\n",
    "                          , UserWarning)\n",
    "        x_se = (p*(1-p)/n)**0.5\n",
    "        alpha = 1 - confi / 100\n",
    "        z = norm.ppf(1 - (alpha / 2))\n",
    "        x_1 = p - x_se * z\n",
    "        x_2 = p + x_se * z\n",
    "        dict = {'level': confi}\n",
    "        dict['est'] = p\n",
    "        dict['lwr'] = x_1\n",
    "        dict['upr'] = x_2\n",
    "        if string != None:\n",
    "            output_string = '{est:.2f}[{level:.0f}%CI:({lwr:.2f},{upr:.2f})]'.format(**dict)\n",
    "            return output_string\n",
    "        else:\n",
    "            return dict\n",
    "\n",
    "    if method == 1 or method == 'Clopper_Pearson':\n",
    "        p = np.mean(x)\n",
    "        n = len(x)\n",
    "        s = np.sum(x)\n",
    "        alpha = 1 - confi / 100\n",
    "        x_1 = beta.ppf(0.5*alpha,s,n-s+1)\n",
    "        x_2 = beta.ppf(1-0.5*alpha,s+1,n-s)\n",
    "        dict = {'level': confi}\n",
    "        dict['est'] = p\n",
    "        dict['lwr'] = x_1\n",
    "        dict['upr'] = x_2\n",
    "        if string != None:\n",
    "            output_string = '{est:.2f}[{level:.0f}%CI:({lwr:.2f},{upr:.2f})]'.format(**dict)\n",
    "            return output_string\n",
    "        else:\n",
    "            return dict\n",
    "\n",
    "    if method == 2 or method == 'Jeffrey':\n",
    "        p = np.mean(x)\n",
    "        n = len(x)\n",
    "        s = np.sum(x)\n",
    "        alpha = 1 - confi / 100\n",
    "        x_1 = max(0,beta.ppf(0.5*alpha,s+0.5,n-s+0.5))\n",
    "        x_2 = min(1,beta.ppf(1-0.5*alpha,s+0.5,n-s+0.5))\n",
    "        dict = {'level': confi}\n",
    "        dict['est'] = p\n",
    "        dict['lwr'] = x_1\n",
    "        dict['upr'] = x_2\n",
    "        if string != None:\n",
    "            output_string = '{est:.2f}[{level:.0f}%CI:({lwr:.2f},{upr:.2f})]'.format(**dict)\n",
    "            return output_string\n",
    "        else:\n",
    "            return dict\n",
    "\n",
    "    if method == 3 or method == 'Agresti_Coull':\n",
    "        n = len(x)\n",
    "        s = np.sum(x)\n",
    "        alpha = 1 - confi / 100\n",
    "        z = norm.ppf(1 - (alpha / 2))\n",
    "        n_hat = n + z**2\n",
    "        p_hat = (s+(z**2)/2)/n_hat\n",
    "        x_se = (p_hat*(1-p_hat)/n_hat)**0.5\n",
    "        x_1 = p_hat - x_se * z\n",
    "        x_2 = p_hat + x_se * z\n",
    "        dict = {'level': confi}\n",
    "        dict['est'] = p_hat\n",
    "        dict['lwr'] = x_1\n",
    "        dict['upr'] = x_2\n",
    "        if string != None:\n",
    "            output_string = '{est:.2f}[{level:.0f}%CI:({lwr:.2f},{upr:.2f})]'.format(**dict)\n",
    "            return output_string\n",
    "        else:\n",
    "            return dict\n",
    "\n",
    "x = [0,1,0,0]\n",
    "estimate_mean_b(x,95,method = 'Standard_Bi')"
   ]
  },
  {
   "cell_type": "code",
   "execution_count": 11,
   "id": "0848e6d2",
   "metadata": {
    "lines_to_next_cell": 2
   },
   "outputs": [
    {
     "ename": "TypeError",
     "evalue": "x must be the type that can convert to np.array or x must be a number sequence",
     "output_type": "error",
     "traceback": [
      "\u001b[1;31m---------------------------------------------------------------------------\u001b[0m",
      "\u001b[1;31mTypeError\u001b[0m                                 Traceback (most recent call last)",
      "\u001b[1;32m<ipython-input-10-a3c469af600b>\u001b[0m in \u001b[0;36mestimate_mean_b\u001b[1;34m(x, confi, method, string)\u001b[0m\n\u001b[0;32m     29\u001b[0m         \u001b[0mx\u001b[0m \u001b[1;33m=\u001b[0m \u001b[0mnp\u001b[0m\u001b[1;33m.\u001b[0m\u001b[0marray\u001b[0m\u001b[1;33m(\u001b[0m\u001b[0mx\u001b[0m\u001b[1;33m)\u001b[0m\u001b[1;33m\u001b[0m\u001b[1;33m\u001b[0m\u001b[0m\n\u001b[1;32m---> 30\u001b[1;33m         \u001b[0mnp\u001b[0m\u001b[1;33m.\u001b[0m\u001b[0mmean\u001b[0m\u001b[1;33m(\u001b[0m\u001b[0mx\u001b[0m\u001b[1;33m)\u001b[0m\u001b[1;33m\u001b[0m\u001b[1;33m\u001b[0m\u001b[0m\n\u001b[0m\u001b[0;32m     31\u001b[0m     \u001b[1;32mexcept\u001b[0m\u001b[1;33m:\u001b[0m\u001b[1;33m\u001b[0m\u001b[1;33m\u001b[0m\u001b[0m\n",
      "\u001b[1;32m<__array_function__ internals>\u001b[0m in \u001b[0;36mmean\u001b[1;34m(*args, **kwargs)\u001b[0m\n",
      "\u001b[1;32me:\\python\\lib\\site-packages\\numpy\\core\\fromnumeric.py\u001b[0m in \u001b[0;36mmean\u001b[1;34m(a, axis, dtype, out, keepdims)\u001b[0m\n\u001b[0;32m   3334\u001b[0m     return _methods._mean(a, axis=axis, dtype=dtype,\n\u001b[1;32m-> 3335\u001b[1;33m                           out=out, **kwargs)\n\u001b[0m\u001b[0;32m   3336\u001b[0m \u001b[1;33m\u001b[0m\u001b[0m\n",
      "\u001b[1;32me:\\python\\lib\\site-packages\\numpy\\core\\_methods.py\u001b[0m in \u001b[0;36m_mean\u001b[1;34m(a, axis, dtype, out, keepdims)\u001b[0m\n\u001b[0;32m    150\u001b[0m \u001b[1;33m\u001b[0m\u001b[0m\n\u001b[1;32m--> 151\u001b[1;33m     \u001b[0mret\u001b[0m \u001b[1;33m=\u001b[0m \u001b[0mumr_sum\u001b[0m\u001b[1;33m(\u001b[0m\u001b[0marr\u001b[0m\u001b[1;33m,\u001b[0m \u001b[0maxis\u001b[0m\u001b[1;33m,\u001b[0m \u001b[0mdtype\u001b[0m\u001b[1;33m,\u001b[0m \u001b[0mout\u001b[0m\u001b[1;33m,\u001b[0m \u001b[0mkeepdims\u001b[0m\u001b[1;33m)\u001b[0m\u001b[1;33m\u001b[0m\u001b[1;33m\u001b[0m\u001b[0m\n\u001b[0m\u001b[0;32m    152\u001b[0m     \u001b[1;32mif\u001b[0m \u001b[0misinstance\u001b[0m\u001b[1;33m(\u001b[0m\u001b[0mret\u001b[0m\u001b[1;33m,\u001b[0m \u001b[0mmu\u001b[0m\u001b[1;33m.\u001b[0m\u001b[0mndarray\u001b[0m\u001b[1;33m)\u001b[0m\u001b[1;33m:\u001b[0m\u001b[1;33m\u001b[0m\u001b[1;33m\u001b[0m\u001b[0m\n",
      "\u001b[1;31mTypeError\u001b[0m: cannot perform reduce with flexible type",
      "\nDuring handling of the above exception, another exception occurred:\n",
      "\u001b[1;31mTypeError\u001b[0m                                 Traceback (most recent call last)",
      "\u001b[1;32m<ipython-input-11-fdeaad9621a8>\u001b[0m in \u001b[0;36m<module>\u001b[1;34m\u001b[0m\n\u001b[0;32m      1\u001b[0m \u001b[0mx\u001b[0m \u001b[1;33m=\u001b[0m \u001b[1;33m[\u001b[0m\u001b[1;34m'Just a test for raise an error'\u001b[0m\u001b[1;33m,\u001b[0m\u001b[1;36m1\u001b[0m\u001b[1;33m]\u001b[0m\u001b[1;33m\u001b[0m\u001b[1;33m\u001b[0m\u001b[0m\n\u001b[1;32m----> 2\u001b[1;33m \u001b[0mestimate_mean_b\u001b[0m\u001b[1;33m(\u001b[0m\u001b[0mx\u001b[0m\u001b[1;33m,\u001b[0m\u001b[1;36m95\u001b[0m\u001b[1;33m,\u001b[0m\u001b[0mmethod\u001b[0m \u001b[1;33m=\u001b[0m \u001b[1;34m'Standard_Bi'\u001b[0m\u001b[1;33m)\u001b[0m\u001b[1;33m\u001b[0m\u001b[1;33m\u001b[0m\u001b[0m\n\u001b[0m",
      "\u001b[1;32m<ipython-input-10-a3c469af600b>\u001b[0m in \u001b[0;36mestimate_mean_b\u001b[1;34m(x, confi, method, string)\u001b[0m\n\u001b[0;32m     30\u001b[0m         \u001b[0mnp\u001b[0m\u001b[1;33m.\u001b[0m\u001b[0mmean\u001b[0m\u001b[1;33m(\u001b[0m\u001b[0mx\u001b[0m\u001b[1;33m)\u001b[0m\u001b[1;33m\u001b[0m\u001b[1;33m\u001b[0m\u001b[0m\n\u001b[0;32m     31\u001b[0m     \u001b[1;32mexcept\u001b[0m\u001b[1;33m:\u001b[0m\u001b[1;33m\u001b[0m\u001b[1;33m\u001b[0m\u001b[0m\n\u001b[1;32m---> 32\u001b[1;33m         \u001b[1;32mraise\u001b[0m \u001b[0mTypeError\u001b[0m\u001b[1;33m(\u001b[0m\u001b[1;34m'x must be the type that can convert to np.array or x must be a number sequence'\u001b[0m\u001b[1;33m)\u001b[0m\u001b[1;33m\u001b[0m\u001b[1;33m\u001b[0m\u001b[0m\n\u001b[0m\u001b[0;32m     33\u001b[0m     \u001b[1;32mif\u001b[0m \u001b[0mmethod\u001b[0m \u001b[1;33m==\u001b[0m \u001b[1;36m0\u001b[0m \u001b[1;32mor\u001b[0m \u001b[0mmethod\u001b[0m \u001b[1;33m==\u001b[0m \u001b[1;34m'Standard_Bi'\u001b[0m\u001b[1;33m:\u001b[0m\u001b[1;33m\u001b[0m\u001b[1;33m\u001b[0m\u001b[0m\n\u001b[0;32m     34\u001b[0m         \u001b[0mp\u001b[0m \u001b[1;33m=\u001b[0m \u001b[0mnp\u001b[0m\u001b[1;33m.\u001b[0m\u001b[0mmean\u001b[0m\u001b[1;33m(\u001b[0m\u001b[0mx\u001b[0m\u001b[1;33m)\u001b[0m\u001b[1;33m\u001b[0m\u001b[1;33m\u001b[0m\u001b[0m\n",
      "\u001b[1;31mTypeError\u001b[0m: x must be the type that can convert to np.array or x must be a number sequence"
     ]
    }
   ],
   "source": [
    "x = ['Just a test for raise an error',1]\n",
    "estimate_mean_b(x,95,method = 'Standard_Bi')"
   ]
  },
  {
   "cell_type": "markdown",
   "id": "13b122fa",
   "metadata": {},
   "source": [
    "### Part c\n",
    "First, we need to create x. Then we use this x as a input to get the different result.\n",
    "Finally we get a pd.dataframe to print."
   ]
  },
  {
   "cell_type": "code",
   "execution_count": 24,
   "id": "5f5fd2b1",
   "metadata": {},
   "outputs": [
    {
     "name": "stdout",
     "output_type": "stream",
     "text": [
      "               Norm_theory Standard_Bi Clopper_Pearson Jeffrey Agresti_Coull\n",
      "90%level_lwr         0.380       0.380           0.376   0.382         0.382\n",
      "90%level_upr         0.553       0.553           0.559   0.553         0.553\n",
      "90%level_width       0.173       0.173           0.182   0.171         0.170\n",
      "95%level_lwr         0.364       0.364           0.361   0.366         0.367\n",
      "95%level_upr         0.570       0.570           0.575   0.569         0.569\n",
      "95%level_width       0.206       0.206           0.214   0.203         0.202\n",
      "99%level_lwr         0.331       0.331           0.331   0.336         0.338\n",
      "99%level_upr         0.602       0.602           0.606   0.601         0.600\n",
      "99%level_width       0.271       0.271           0.276   0.265         0.262\n"
     ]
    }
   ],
   "source": [
    "x = [1 if i <42 else 0 for i in range(42+48)]\n",
    "n_list = [90,95,99]\n",
    "method_list = ['Norm_theory','Standard_Bi','Clopper_Pearson','Jeffrey','Agresti_Coull']\n",
    "dict_all = {}\n",
    "lwr = 'lwr'\n",
    "upr = 'upr'\n",
    "for method in method_list:\n",
    "    dict_all[method] = {}\n",
    "    if method == 'Norm_theory':\n",
    "        for n in n_list:\n",
    "            temp_dict = estimate_mean_a(x,n)\n",
    "            new_lwr_key = str(n)+'%level_lwr'\n",
    "            new_upr_key = str(n)+'%level_upr'\n",
    "            new_width_key = str(n)+'%level_width'\n",
    "            dict_all[method][new_lwr_key] = f'{temp_dict[lwr]:.3f}'\n",
    "            dict_all[method][new_upr_key] = f'{temp_dict[upr]:.3f}'\n",
    "            dict_all[method][new_width_key] = f'{temp_dict[upr]-temp_dict[lwr]:.3f}'\n",
    "    else:\n",
    "        for n in n_list:\n",
    "            temp_dict = estimate_mean_b(x,n,method=method)\n",
    "            new_lwr_key = str(n)+'%level_lwr'\n",
    "            new_upr_key = str(n)+'%level_upr'\n",
    "            new_width_key = str(n)+'%level_width'\n",
    "            dict_all[method][new_lwr_key] = f\"{temp_dict[lwr]:.3f}\"\n",
    "            dict_all[method][new_upr_key] = f'{temp_dict[upr]:.3f}'\n",
    "            dict_all[method][new_width_key] = f'{temp_dict[upr]-temp_dict[lwr]:.3f}'\n",
    "table_all = pd.DataFrame(dict_all)\n",
    "print(table_all)\n",
    "            \n",
    "            \n",
    "        \n",
    "    \n",
    "    "
   ]
  },
  {
   "cell_type": "markdown",
   "id": "f2d890fe",
   "metadata": {},
   "source": [
    "From the table above we can know that:\n",
    "\n",
    "for 90,95,99% confidence level, Agresti_Coull method produces the interval with the smallest width.\n",
    "Jeffrey method produces the inerval with second smallest width. And the next is Norm_theory\n",
    "and Standard_Bi. They are the same method. And Clopper_Pearson produced the most biggest width.\n"
   ]
  },
  {
   "cell_type": "code",
   "execution_count": null,
   "id": "9eeac84e",
   "metadata": {},
   "outputs": [],
   "source": []
  }
 ],
 "metadata": {
  "jupytext": {
   "cell_metadata_filter": "-all",
   "formats": "ipynb,auto:light",
   "main_language": "python",
   "notebook_metadata_filter": "-all"
  },
  "kernelspec": {
   "display_name": "Python 3",
   "language": "python",
   "name": "python3"
  },
  "language_info": {
   "codemirror_mode": {
    "name": "ipython",
    "version": 3
   },
   "file_extension": ".py",
   "mimetype": "text/x-python",
   "name": "python",
   "nbconvert_exporter": "python",
   "pygments_lexer": "ipython3",
   "version": "3.7.7"
  }
 },
 "nbformat": 4,
 "nbformat_minor": 5
}
